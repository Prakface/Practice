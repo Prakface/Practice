{
  "nbformat": 4,
  "nbformat_minor": 0,
  "metadata": {
    "colab": {
      "name": "ApplyingExisting1.ipynb",
      "version": "0.3.2",
      "provenance": [],
      "collapsed_sections": [],
      "include_colab_link": true
    },
    "kernelspec": {
      "name": "python3",
      "display_name": "Python 3"
    }
  },
  "cells": [
    {
      "cell_type": "markdown",
      "metadata": {
        "id": "view-in-github",
        "colab_type": "text"
      },
      "source": [
        "<a href=\"https://colab.research.google.com/github/Prakface/Practice/blob/master/ApplyingExisting1.ipynb\" target=\"_parent\"><img src=\"https://colab.research.google.com/assets/colab-badge.svg\" alt=\"Open In Colab\"/></a>"
      ]
    },
    {
      "cell_type": "code",
      "metadata": {
        "id": "9jbgod4KteJd",
        "colab_type": "code",
        "outputId": "723d053c-d0fd-404d-9a97-827213ddbd62",
        "colab": {
          "base_uri": "https://localhost:8080/",
          "height": 1181
        }
      },
      "source": [
        "#Logistic Regression\n",
        "\n",
        "# Importing the libraries\n",
        "import numpy as np\n",
        "import matplotlib.pyplot as plt\n",
        "import pandas as pd\n",
        "\n",
        "# Importing the dataset\n",
        "url='https://raw.githubusercontent.com/Prakface/Practice/master/initialFeatures.csv'\n",
        "\n",
        "data=pd.read_csv(url)\n",
        "\n",
        "\n",
        "print(data.isnull())\n",
        "\n",
        "#the follwoing line is used to remove null valued rows, but the index of rows still corresponds to old one , loses serial order\n",
        "data_modified= data.dropna()   \n",
        "\n",
        "\n",
        "#print(data_modified)\n",
        "\n",
        "\n",
        "#to arrange rows in serial order which are left in file, storeback modified data frame to a csv file and again read this new csv file into a data frame\n",
        "\n",
        "\n",
        "\n",
        "data_modified.to_csv(\"modifiedData.csv\", index=False)\n",
        "\n",
        "\n",
        "\n",
        "df2=pd.read_csv(\"modifiedData.csv\")\n",
        "\n",
        "#df2\n",
        "\n",
        "\n",
        "dataset = df2.drop(\"level\", axis = 1)\n",
        "data_X = dataset.iloc[:, 0:27].values\n",
        "data_y = dataset.iloc[:, 27].values\n",
        "from sklearn.utils import shuffle\n",
        "dataset = shuffle(dataset, random_state=0)\n",
        "\n",
        "\n",
        "\n",
        "\n",
        "\n",
        "\n",
        "\n"
      ],
      "execution_count": 2,
      "outputs": [
        {
          "output_type": "stream",
          "text": [
            "       image    url  question  original  ...  retweets_count   hour  level  result\n",
            "0      False  False     False     False  ...           False  False  False   False\n",
            "1       True   True      True      True  ...            True   True   True    True\n",
            "2      False  False     False     False  ...           False  False  False   False\n",
            "3       True   True      True      True  ...            True   True   True    True\n",
            "4      False  False     False     False  ...           False  False  False   False\n",
            "5       True   True      True      True  ...            True   True   True    True\n",
            "6      False  False     False     False  ...           False  False  False   False\n",
            "7       True   True      True      True  ...            True   True   True    True\n",
            "8      False  False     False     False  ...           False  False  False   False\n",
            "9       True   True      True      True  ...            True   True   True    True\n",
            "10     False  False     False     False  ...           False  False  False   False\n",
            "11      True   True      True      True  ...            True   True   True    True\n",
            "12     False  False     False     False  ...           False  False  False   False\n",
            "13      True   True      True      True  ...            True   True   True    True\n",
            "14     False  False     False     False  ...           False  False  False   False\n",
            "15      True   True      True      True  ...            True   True   True    True\n",
            "16     False  False     False     False  ...           False  False  False   False\n",
            "17      True   True      True      True  ...            True   True   True    True\n",
            "18     False  False     False     False  ...           False  False  False   False\n",
            "19      True   True      True      True  ...            True   True   True    True\n",
            "20     False  False     False     False  ...           False  False  False   False\n",
            "21      True   True      True      True  ...            True   True   True    True\n",
            "22     False  False     False     False  ...           False  False  False   False\n",
            "23      True   True      True      True  ...            True   True   True    True\n",
            "24     False  False     False     False  ...           False  False  False   False\n",
            "25      True   True      True      True  ...            True   True   True    True\n",
            "26     False  False     False     False  ...           False  False  False   False\n",
            "27      True   True      True      True  ...            True   True   True    True\n",
            "28     False  False     False     False  ...           False  False  False   False\n",
            "29      True   True      True      True  ...            True   True   True    True\n",
            "...      ...    ...       ...       ...  ...             ...    ...    ...     ...\n",
            "11719   True   True      True      True  ...            True   True   True    True\n",
            "11720  False  False     False     False  ...           False  False  False   False\n",
            "11721   True   True      True      True  ...            True   True   True    True\n",
            "11722  False  False     False     False  ...           False  False  False   False\n",
            "11723   True   True      True      True  ...            True   True   True    True\n",
            "11724  False  False     False     False  ...           False  False  False   False\n",
            "11725   True   True      True      True  ...            True   True   True    True\n",
            "11726  False  False     False     False  ...           False  False  False   False\n",
            "11727   True   True      True      True  ...            True   True   True    True\n",
            "11728  False  False     False     False  ...           False  False  False   False\n",
            "11729   True   True      True      True  ...            True   True   True    True\n",
            "11730  False  False     False     False  ...           False  False  False   False\n",
            "11731   True   True      True      True  ...            True   True   True    True\n",
            "11732  False  False     False     False  ...           False  False  False   False\n",
            "11733   True   True      True      True  ...            True   True   True    True\n",
            "11734  False  False     False     False  ...           False  False  False   False\n",
            "11735   True   True      True      True  ...            True   True   True    True\n",
            "11736  False  False     False     False  ...           False  False  False   False\n",
            "11737   True   True      True      True  ...            True   True   True    True\n",
            "11738  False  False     False     False  ...           False  False  False   False\n",
            "11739   True   True      True      True  ...            True   True   True    True\n",
            "11740  False  False     False     False  ...           False  False  False   False\n",
            "11741   True   True      True      True  ...            True   True   True    True\n",
            "11742  False  False     False     False  ...           False  False  False   False\n",
            "11743   True   True      True      True  ...            True   True   True    True\n",
            "11744  False  False     False     False  ...           False  False  False   False\n",
            "11745   True   True      True      True  ...            True   True   True    True\n",
            "11746  False  False     False     False  ...           False  False  False   False\n",
            "11747   True   True      True      True  ...            True   True   True    True\n",
            "11748  False  False     False     False  ...           False  False  False   False\n",
            "\n",
            "[11749 rows x 29 columns]\n"
          ],
          "name": "stdout"
        }
      ]
    },
    {
      "cell_type": "code",
      "metadata": {
        "id": "SjM0Y3he51yD",
        "colab_type": "code",
        "outputId": "40915d65-c78f-4d38-adbd-908330595868",
        "colab": {
          "base_uri": "https://localhost:8080/",
          "height": 35
        }
      },
      "source": [
        "# Splitting the dataset into the Training set and Test set\n",
        "from sklearn.model_selection import train_test_split\n",
        "X_train, X_test, y_train, y_test = train_test_split(data_X, data_y, test_size = 0.35, random_state = 0)\n",
        "\n",
        "# Feature Scaling\n",
        "'''from sklearn.preprocessing import StandardScaler\n",
        "sc = StandardScaler()\n",
        "X_train = sc.fit_transform(X_train)\n",
        "X_test = sc.transform(X_test)'''\n",
        "\n"
      ],
      "execution_count": 3,
      "outputs": [
        {
          "output_type": "execute_result",
          "data": {
            "text/plain": [
              "'from sklearn.preprocessing import StandardScaler\\nsc = StandardScaler()\\nX_train = sc.fit_transform(X_train)\\nX_test = sc.transform(X_test)'"
            ]
          },
          "metadata": {
            "tags": []
          },
          "execution_count": 3
        }
      ]
    },
    {
      "cell_type": "code",
      "metadata": {
        "id": "M9faNzCy52t_",
        "colab_type": "code",
        "outputId": "d2232b0c-5cd7-4b25-e59a-98f56fca0326",
        "colab": {
          "base_uri": "https://localhost:8080/",
          "height": 381
        }
      },
      "source": [
        "#For kernel SVM\n",
        "\n",
        "from sklearn.svm import SVC\n",
        "from sklearn.model_selection import cross_val_score\n",
        "from sklearn.preprocessing import StandardScaler \n",
        "from sklearn.decomposition import PCA \n",
        "from sklearn.linear_model import LogisticRegression \n",
        "from sklearn.metrics import confusion_matrix\n",
        "\n",
        "\n",
        "print(\"\\n for svm with rbf kernel \\n \")\n",
        "clf = SVC(kernel = 'rbf', gamma=0.3)\n",
        "#clf.fit(X_train, y_train)\n",
        "\n",
        "#clf2 = SVC(kernel='linear', C=1, random_state=0)\n",
        "\n",
        "# cross_validate without scoring parameter computes accuracy for each fold\n",
        "scores = cross_val_score(clf, data_X, data_y,cv=10)\n",
        "\n",
        "#sorted(scores.keys())\n",
        "print(\"\\n accuracy scores = \", scores)\n",
        "\n",
        "print(\"\\n the mean accuracy of 10 fold cross validation = \", scores.mean())\n",
        "#for finding F1 measure at each fold, use scoring marameter in cross_validate\n",
        "scores = cross_val_score(clf, data_X, data_y, scoring='f1_macro',cv=10)\n",
        "\n",
        "print(\"\\n F1 measure values  = \", scores)\n",
        "\n",
        "print(\"\\n Average F1 score = \", scores.mean())\n",
        "\n",
        "sa=scores.mean()\n",
        "\n",
        "\n",
        "clf.fit(X_train, y_train)\n",
        "# Predicting the Test set results\n",
        "y_pred = clf.predict(X_test)\n",
        "\n",
        "# Making the Confusion Matrix\n",
        "from sklearn.metrics import confusion_matrix\n",
        "cm = confusion_matrix(y_test, y_pred)\n",
        "\n",
        "print(cm)\n",
        "\n",
        "print(\"\\n after PCA\")\n",
        " \n",
        "\n",
        "sc = StandardScaler() \n",
        "\n",
        " \n",
        "''' \n",
        "X_train2 = sc.fit_transform(X_train) \n",
        "X_test2 = sc.transform(X_test)\n",
        "\n",
        "pca = PCA(n_components =2) \n",
        "  \n",
        "X_train2 = pca.fit_transform(X_train2) \n",
        "X_test2 = pca.transform(X_test2) \n",
        "  \n",
        "explained_variance = pca.explained_variance_ratio_\n",
        "\n",
        "'''\n",
        "X_p=sc.fit_transform(data_X)\n",
        "  \n",
        "clf = SVC(kernel = 'rbf', gamma=0.3)\n",
        "scores = cross_val_score(clf, X_p, data_y,cv=10)\n",
        "\n",
        "print(scores)\n",
        "print(scores.mean())\n",
        "\n",
        "#clf.fit(X_train, y_train)\n",
        "\n",
        "\n",
        "\n",
        "  "
      ],
      "execution_count": 7,
      "outputs": [
        {
          "output_type": "stream",
          "text": [
            "\n",
            " for svm with rbf kernel \n",
            " \n",
            "\n",
            " accuracy scores =  [0.56462585 0.59353741 0.5952381  0.71088435 0.79931973 0.78534923\n",
            " 0.63032368 0.59795571 0.62691652 0.560477  ]\n",
            "\n",
            " the mean accuracy of 10 fold cross validation =  0.6464627588684537\n",
            "\n",
            " F1 measure values  =  [0.53432082 0.56721966 0.56786067 0.70456453 0.79785808 0.78520898\n",
            " 0.63004882 0.57949247 0.60509024 0.52472321]\n",
            "\n",
            " Average F1 score =  0.6296387482252412\n",
            "[[537 456]\n",
            " [167 897]]\n",
            "\n",
            " after PCA\n",
            "[0.62755102 0.60714286 0.62414966 0.72789116 0.79931973 0.78364566\n",
            " 0.73764906 0.6286201  0.70868825 0.59284497]\n",
            "0.6837502462654568\n"
          ],
          "name": "stdout"
        }
      ]
    },
    {
      "cell_type": "code",
      "metadata": {
        "id": "vwhMW-_7142k",
        "colab_type": "code",
        "colab": {}
      },
      "source": [
        ""
      ],
      "execution_count": 0,
      "outputs": []
    },
    {
      "cell_type": "code",
      "metadata": {
        "id": "0Y31Kipk1ohc",
        "colab_type": "code",
        "outputId": "02e9379a-9f64-4c30-bc68-1385a73b712c",
        "colab": {
          "base_uri": "https://localhost:8080/",
          "height": 35
        }
      },
      "source": [
        "len(X_train2)\n",
        "\n",
        "len(data_y)"
      ],
      "execution_count": 0,
      "outputs": [
        {
          "output_type": "execute_result",
          "data": {
            "text/plain": [
              "5875"
            ]
          },
          "metadata": {
            "tags": []
          },
          "execution_count": 26
        }
      ]
    },
    {
      "cell_type": "code",
      "metadata": {
        "id": "q25BTjOGM4QN",
        "colab_type": "code",
        "colab": {}
      },
      "source": [
        "from sklearn.model_selection import cross_validate\n",
        "from sklearn.metrics import recall_score\n",
        "scoring = ['precision_macro', 'recall_macro']\n",
        "clf = SVC(kernel='linear', C=1, random_state=0)\n",
        "scores = cross_validate(clf, data_X, data_y, scoring=scoring,cv=5)\n",
        "sorted(scores.keys())"
      ],
      "execution_count": 0,
      "outputs": []
    },
    {
      "cell_type": "code",
      "metadata": {
        "id": "c5mYyeTLIvFa",
        "colab_type": "code",
        "outputId": "18a43515-7b42-4ef4-ba16-da1b1085be9d",
        "colab": {
          "base_uri": "https://localhost:8080/",
          "height": 68
        }
      },
      "source": [
        "from sklearn.model_selection import cross_val_score\n",
        "print('\\n for svm with linear  kernel \\n')\n",
        "clf = SVC(kernel='linear',degree=2, C=1, random_state=0)\n",
        "\n",
        "# cross_validate without scoring parameter computes accuracy for each fold\n",
        "scores = cross_val_score(clf, data_X, data_y,cv=5)\n",
        "sorted(scores.keys())\n",
        "print(\"\\n accuracy scores = \", scores)\n",
        "\n",
        "#for finding F1 measure at each fold, use scoring marameter in cross_validate\n",
        "scores = cross_val_score(clf, data_X, data_y, scoring='f1_macro',cv=5)\n",
        "sorted(scores.keys())\n",
        "\n",
        "print(\"F1 measure values  = \", scores)\n",
        "\n",
        "# Predicting the Test set results\n",
        "y_pred = classifier.predict(X_test)\n",
        "\n",
        "# Making the Confusion Matrix\n",
        "from sklearn.metrics import confusion_matrix\n",
        "cm = confusion_matrix(y_test, y_pred)\n",
        "\n",
        "print(cm)"
      ],
      "execution_count": 0,
      "outputs": [
        {
          "output_type": "stream",
          "text": [
            "\n",
            " for svm with linear  kernel \n",
            "\n"
          ],
          "name": "stdout"
        }
      ]
    },
    {
      "cell_type": "code",
      "metadata": {
        "id": "BD-OKF8t5_P6",
        "colab_type": "code",
        "outputId": "c8ab21df-7501-4f39-800a-2baca2ba7bd8",
        "colab": {
          "base_uri": "https://localhost:8080/",
          "height": 783
        }
      },
      "source": [
        "#For random logistic regression\n",
        "\n",
        "from sklearn.linear_model import LogisticRegression\n",
        "\n",
        "from sklearn.model_selection import cross_validate\n",
        "from sklearn.metrics import recall_score\n",
        "scoring = ['accuracy', 'f1_macro', 'precision_macro', 'recall_macro']\n",
        "\n",
        "\n",
        "clf = LogisticRegression(random_state = 0)\n",
        "\n",
        "scores = cross_validate(clf, data_X, data_y, scoring=scoring,cv=5)\n",
        "\n",
        "print(sorted(scores.keys()))\n",
        "print(scores)\n",
        "\n",
        "clf.fit(X_train, y_train)\n",
        "\n",
        "\n",
        "# Predicting the Test set results\n",
        "y_pred = clf.predict(X_test)\n",
        "\n",
        "# Making the Confusion Matrix\n",
        "from sklearn.metrics import confusion_matrix\n",
        "cm = confusion_matrix(y_test, y_pred)\n",
        "\n",
        "print(cm)\n",
        "\n",
        "\n",
        "\n",
        "print(\"\\n after PCA\")\n",
        " \n",
        "\n",
        "  \n",
        " \n",
        "sc = StandardScaler() \n",
        "  \n",
        "X_p=sc.fit_transform(data_X)\n",
        "  \n",
        "clf = LogisticRegression(random_state = 0)\n",
        "\n",
        "scores = cross_val_score(clf, X_p, data_y,cv=10)\n",
        "\n",
        "print(scores)\n",
        "print(scores.mean())\n",
        "\n",
        "\n",
        "\n",
        "#clf.fit(X_train, y_train)\n"
      ],
      "execution_count": 8,
      "outputs": [
        {
          "output_type": "stream",
          "text": [
            "/usr/local/lib/python3.6/dist-packages/sklearn/linear_model/logistic.py:432: FutureWarning: Default solver will be changed to 'lbfgs' in 0.22. Specify a solver to silence this warning.\n",
            "  FutureWarning)\n",
            "/usr/local/lib/python3.6/dist-packages/sklearn/linear_model/logistic.py:432: FutureWarning: Default solver will be changed to 'lbfgs' in 0.22. Specify a solver to silence this warning.\n",
            "  FutureWarning)\n",
            "/usr/local/lib/python3.6/dist-packages/sklearn/linear_model/logistic.py:432: FutureWarning: Default solver will be changed to 'lbfgs' in 0.22. Specify a solver to silence this warning.\n",
            "  FutureWarning)\n",
            "/usr/local/lib/python3.6/dist-packages/sklearn/linear_model/logistic.py:432: FutureWarning: Default solver will be changed to 'lbfgs' in 0.22. Specify a solver to silence this warning.\n",
            "  FutureWarning)\n",
            "/usr/local/lib/python3.6/dist-packages/sklearn/linear_model/logistic.py:432: FutureWarning: Default solver will be changed to 'lbfgs' in 0.22. Specify a solver to silence this warning.\n",
            "  FutureWarning)\n",
            "/usr/local/lib/python3.6/dist-packages/sklearn/linear_model/logistic.py:432: FutureWarning: Default solver will be changed to 'lbfgs' in 0.22. Specify a solver to silence this warning.\n",
            "  FutureWarning)\n",
            "/usr/local/lib/python3.6/dist-packages/sklearn/linear_model/logistic.py:432: FutureWarning: Default solver will be changed to 'lbfgs' in 0.22. Specify a solver to silence this warning.\n",
            "  FutureWarning)\n",
            "/usr/local/lib/python3.6/dist-packages/sklearn/linear_model/logistic.py:432: FutureWarning: Default solver will be changed to 'lbfgs' in 0.22. Specify a solver to silence this warning.\n",
            "  FutureWarning)\n",
            "/usr/local/lib/python3.6/dist-packages/sklearn/linear_model/logistic.py:432: FutureWarning: Default solver will be changed to 'lbfgs' in 0.22. Specify a solver to silence this warning.\n",
            "  FutureWarning)\n"
          ],
          "name": "stderr"
        },
        {
          "output_type": "stream",
          "text": [
            "['fit_time', 'score_time', 'test_accuracy', 'test_f1_macro', 'test_precision_macro', 'test_recall_macro']\n",
            "{'fit_time': array([0.05482674, 0.05307698, 0.04518819, 0.03829336, 0.05273414]), 'score_time': array([0.00590158, 0.00470686, 0.00459456, 0.00836396, 0.00460052]), 'test_accuracy': array([0.59829787, 0.65361702, 0.76085106, 0.68510638, 0.61617021]), 'test_f1_macro': array([0.59001609, 0.65032549, 0.75931065, 0.68451203, 0.60115261]), 'test_precision_macro': array([0.6013516 , 0.65557128, 0.77315541, 0.68491944, 0.62765957]), 'test_recall_macro': array([0.59477534, 0.65140598, 0.76370026, 0.68442723, 0.61120261])}\n",
            "[[633 360]\n",
            " [319 745]]\n",
            "\n",
            " after PCA\n"
          ],
          "name": "stdout"
        },
        {
          "output_type": "stream",
          "text": [
            "/usr/local/lib/python3.6/dist-packages/sklearn/linear_model/logistic.py:432: FutureWarning: Default solver will be changed to 'lbfgs' in 0.22. Specify a solver to silence this warning.\n",
            "  FutureWarning)\n",
            "/usr/local/lib/python3.6/dist-packages/sklearn/linear_model/logistic.py:432: FutureWarning: Default solver will be changed to 'lbfgs' in 0.22. Specify a solver to silence this warning.\n",
            "  FutureWarning)\n",
            "/usr/local/lib/python3.6/dist-packages/sklearn/linear_model/logistic.py:432: FutureWarning: Default solver will be changed to 'lbfgs' in 0.22. Specify a solver to silence this warning.\n",
            "  FutureWarning)\n",
            "/usr/local/lib/python3.6/dist-packages/sklearn/linear_model/logistic.py:432: FutureWarning: Default solver will be changed to 'lbfgs' in 0.22. Specify a solver to silence this warning.\n",
            "  FutureWarning)\n",
            "/usr/local/lib/python3.6/dist-packages/sklearn/linear_model/logistic.py:432: FutureWarning: Default solver will be changed to 'lbfgs' in 0.22. Specify a solver to silence this warning.\n",
            "  FutureWarning)\n",
            "/usr/local/lib/python3.6/dist-packages/sklearn/linear_model/logistic.py:432: FutureWarning: Default solver will be changed to 'lbfgs' in 0.22. Specify a solver to silence this warning.\n",
            "  FutureWarning)\n"
          ],
          "name": "stderr"
        },
        {
          "output_type": "stream",
          "text": [
            "[0.61734694 0.6037415  0.61904762 0.68707483 0.78911565 0.74957411\n",
            " 0.71379898 0.63373083 0.6592845  0.56729131]\n",
            "0.6640006258039843\n"
          ],
          "name": "stdout"
        },
        {
          "output_type": "stream",
          "text": [
            "/usr/local/lib/python3.6/dist-packages/sklearn/linear_model/logistic.py:432: FutureWarning: Default solver will be changed to 'lbfgs' in 0.22. Specify a solver to silence this warning.\n",
            "  FutureWarning)\n"
          ],
          "name": "stderr"
        }
      ]
    },
    {
      "cell_type": "code",
      "metadata": {
        "id": "8gqiqKII6ETy",
        "colab_type": "code",
        "outputId": "283f4fe9-df86-49ef-ece5-d973a3cc81fa",
        "colab": {
          "base_uri": "https://localhost:8080/",
          "height": 237
        }
      },
      "source": [
        "#For random forest classification\n",
        "\n",
        "from sklearn.ensemble import RandomForestClassifier\n",
        "clf = RandomForestClassifier(n_estimators = 100, criterion = 'entropy', random_state = 0)\n",
        "clf.fit(X_train, y_train)\n",
        "\n",
        "\n",
        "scoring = ['accuracy', 'f1_macro', 'precision_macro', 'recall_macro']\n",
        "\n",
        "scores = cross_validate(clf, data_X, data_y, scoring=scoring,cv=5)\n",
        "\n",
        "print(sorted(scores.keys()))\n",
        "print(scores)\n",
        "\n",
        "clf.fit(X_train, y_train)\n",
        "\n",
        "\n",
        "# Predicting the Test set results\n",
        "y_pred = clf.predict(X_test)\n",
        "\n",
        "# Making the Confusion Matrix\n",
        "from sklearn.metrics import confusion_matrix\n",
        "cm = confusion_matrix(y_test, y_pred)\n",
        "\n",
        "print(cm)\n",
        "\n",
        "\n",
        "print(\"\\n after PCA\")\n",
        " \n",
        "\n",
        "  \n",
        " \n",
        "sc = StandardScaler() \n",
        "  \n",
        "  \n",
        "X_p=sc.fit_transform(data_X)\n",
        "  \n",
        "clf = RandomForestClassifier(n_estimators = 100, criterion = 'entropy', random_state = 0)\n",
        "\n",
        "scores = cross_val_score(clf, X_p, data_y,cv=10)\n",
        "\n",
        "print(scores)\n",
        "print(scores.mean())\n",
        "\n",
        "\n",
        "  \n",
        "scoring = ['accuracy', 'f1_macro', 'precision_macro', 'recall_macro']\n",
        "\n",
        "\n",
        "\n",
        "scores = cross_validate(clf, data_X, data_y, scoring=scoring,cv=5)\n",
        "\n",
        "print(sorted(scores.keys()))\n",
        "print(scores)\n",
        "\n",
        "\n",
        "\n"
      ],
      "execution_count": 9,
      "outputs": [
        {
          "output_type": "stream",
          "text": [
            "['fit_time', 'score_time', 'test_accuracy', 'test_f1_macro', 'test_precision_macro', 'test_recall_macro']\n",
            "{'fit_time': array([0.67000008, 0.65296483, 0.72798777, 0.68403292, 0.66235685]), 'score_time': array([0.1388495 , 0.12986517, 0.12301373, 0.13399506, 0.13785577]), 'test_accuracy': array([0.64085106, 0.66723404, 0.78297872, 0.7012766 , 0.65191489]), 'test_f1_macro': array([0.63212164, 0.66439877, 0.78244864, 0.70126881, 0.64373905]), 'test_precision_macro': array([0.64856678, 0.66914996, 0.78941332, 0.70159196, 0.6601572 ]), 'test_recall_macro': array([0.63702723, 0.66517728, 0.78498423, 0.70168665, 0.64817156])}\n",
            "[[645 348]\n",
            " [253 811]]\n",
            "\n",
            " after PCA\n",
            "[0.68367347 0.63605442 0.6292517  0.70748299 0.79081633 0.78875639\n",
            " 0.73935264 0.63884157 0.6967632  0.58943782]\n",
            "0.6900430529963264\n",
            "['fit_time', 'score_time', 'test_accuracy', 'test_f1_macro', 'test_precision_macro', 'test_recall_macro']\n",
            "{'fit_time': array([0.65675735, 0.65668082, 0.69590902, 0.66986966, 0.66385293]), 'score_time': array([0.13642645, 0.13068461, 0.12201905, 0.13212109, 0.13827991]), 'test_accuracy': array([0.64085106, 0.66723404, 0.78297872, 0.7012766 , 0.65191489]), 'test_f1_macro': array([0.63212164, 0.66439877, 0.78244864, 0.70126881, 0.64373905]), 'test_precision_macro': array([0.64856678, 0.66914996, 0.78941332, 0.70159196, 0.6601572 ]), 'test_recall_macro': array([0.63702723, 0.66517728, 0.78498423, 0.70168665, 0.64817156])}\n"
          ],
          "name": "stdout"
        }
      ]
    },
    {
      "cell_type": "code",
      "metadata": {
        "id": "OXcsMj-YFODw",
        "colab_type": "code",
        "outputId": "c2955274-c7fa-4c93-dbad-e4b633f88633",
        "colab": {
          "base_uri": "https://localhost:8080/",
          "height": 695
        }
      },
      "source": [
        "#Vsualization \n",
        "\n",
        "import numpy as np \n",
        "import matplotlib.pyplot as plt \n",
        "import pandas as pd \n",
        "from sklearn.preprocessing import StandardScaler \n",
        "from sklearn.linear_model import LogisticRegression \n",
        "from sklearn.metrics import confusion_matrix \n",
        "\n",
        "from matplotlib.colors import ListedColormap \n",
        " \n",
        "'''sc = StandardScaler() \n",
        "  \n",
        "X_train = sc.fit_transform(X_train) \n",
        "X_test = sc.transform(X_test)\n",
        "\n",
        "'''\n",
        "\n",
        "  \n",
        "classifier = LogisticRegression(C=2.1, solver = 'lbfgs', random_state = 0) \n",
        "classifier.fit(X_train, y_train)\n",
        "\n",
        "y_pred = classifier.predict(X_test) \n",
        "\n",
        "\n",
        "  \n",
        "cm = confusion_matrix(y_test, y_pred)\n",
        "\n",
        "\n",
        "print(\"Before applying PCA , default logistic\\n\")\n",
        "\n",
        "\n",
        "X_set, y_set = X_train, y_train \n",
        "X1, X2 = np.meshgrid(np.arange(start = X_set[:, 0].min() - 1, \n",
        "                     stop = X_set[:, 0].max() + 1, step = 0.01), \n",
        "                     np.arange(start = X_set[:, 1].min() - 1, \n",
        "                     stop = X_set[:, 1].max() + 1, step = 0.01)) \n",
        "  \n",
        "plt.contourf(X1, X2, classifier.predict(np.array([X1.ravel(), \n",
        "             X2.ravel()]).T).reshape(X1.shape), alpha = 0.75, \n",
        "             cmap = ListedColormap(('yellow', 'white', 'aquamarine'))) \n",
        "  \n",
        "plt.xlim(X1.min(), X1.max()) \n",
        "plt.ylim(X2.min(), X2.max()) \n",
        "  \n",
        "for i, j in enumerate(np.unique(y_set)): \n",
        "    plt.scatter(X_set[y_set == j, 0], X_set[y_set == j, 1], \n",
        "                c = ListedColormap(('red', 'green', 'blue'))(i), label = j) \n",
        "  \n",
        "plt.title('Logistic Regression (Training set)') \n",
        "plt.xlabel('PC1') # for Xlabel \n",
        "plt.ylabel('PC2') # for Ylabel \n",
        "plt.legend() # to show legend \n",
        "  \n",
        "# show scatter plot \n",
        "plt.show() \n",
        "\n",
        "# Visualising the Test set results through scatter plot \n",
        "\n",
        "  \n",
        "X_set, y_set = X_test, y_test \n",
        "  \n",
        "X1, X2 = np.meshgrid(np.arange(start = X_set[:, 0].min() - 1, \n",
        "                     stop = X_set[:, 0].max() + 1, step = 0.01), \n",
        "                     np.arange(start = X_set[:, 1].min() - 1, \n",
        "                     stop = X_set[:, 1].max() + 1, step = 0.01)) \n",
        "  \n",
        "plt.contourf(X1, X2, classifier.predict(np.array([X1.ravel(), \n",
        "             X2.ravel()]).T).reshape(X1.shape), alpha = 0.75, \n",
        "             cmap = ListedColormap(('yellow', 'white', 'aquamarine')))  \n",
        "  \n",
        "plt.xlim(X1.min(), X1.max()) \n",
        "plt.ylim(X2.min(), X2.max()) \n",
        "  \n",
        "for i, j in enumerate(np.unique(y_set)): \n",
        "    plt.scatter(X_set[y_set == j, 0], X_set[y_set == j, 1], \n",
        "                c = ListedColormap(('red', 'green', 'blue'))(i), label = j) \n",
        "  \n",
        "# title for scatter plot \n",
        "plt.title('Logistic Regression (Test set)')  \n",
        "plt.xlabel('PC1') # for Xlabel \n",
        "plt.ylabel('PC2') # for Ylabel \n",
        "plt.legend() \n",
        "  \n",
        "# show scatter plot \n",
        "plt.show() "
      ],
      "execution_count": 0,
      "outputs": [
        {
          "output_type": "stream",
          "text": [
            "Before applying PCA , default logistic\n",
            "\n"
          ],
          "name": "stdout"
        },
        {
          "output_type": "stream",
          "text": [
            "'c' argument looks like a single numeric RGB or RGBA sequence, which should be avoided as value-mapping will have precedence in case its length matches with 'x' & 'y'.  Please use a 2-D array with a single row if you really want to specify the same RGB or RGBA value for all points.\n",
            "'c' argument looks like a single numeric RGB or RGBA sequence, which should be avoided as value-mapping will have precedence in case its length matches with 'x' & 'y'.  Please use a 2-D array with a single row if you really want to specify the same RGB or RGBA value for all points.\n"
          ],
          "name": "stderr"
        },
        {
          "output_type": "display_data",
          "data": {
            "image/png": "[encoded data removed]",
            "text/plain": [
              "<Figure size 432x288 with 1 Axes>"
            ]
          },
          "metadata": {
            "tags": []
          }
        },
        {
          "output_type": "stream",
          "text": [
            "'c' argument looks like a single numeric RGB or RGBA sequence, which should be avoided as value-mapping will have precedence in case its length matches with 'x' & 'y'.  Please use a 2-D array with a single row if you really want to specify the same RGB or RGBA value for all points.\n",
            "'c' argument looks like a single numeric RGB or RGBA sequence, which should be avoided as value-mapping will have precedence in case its length matches with 'x' & 'y'.  Please use a 2-D array with a single row if you really want to specify the same RGB or RGBA value for all points.\n"
          ],
          "name": "stderr"
        },
        {
          "output_type": "display_data",
          "data": {
            "image/png": "[encoded data removed]",
            "text/plain": [
              "<Figure size 432x288 with 1 Axes>"
            ]
          },
          "metadata": {
            "tags": []
          }
        }
      ]
    },
    {
      "cell_type": "code",
      "metadata": {
        "id": "jXPJRmjtPIUI",
        "colab_type": "code",
        "outputId": "52b9af67-d1ac-4b6f-9d90-0f6047291d9e",
        "colab": {
          "base_uri": "https://localhost:8080/",
          "height": 71
        }
      },
      "source": [
        "import numpy as np \n",
        "import matplotlib.pyplot as plt \n",
        "import pandas as pd \n",
        "from sklearn.preprocessing import StandardScaler \n",
        "from sklearn.decomposition import PCA \n",
        "from sklearn.linear_model import LogisticRegression \n",
        "from sklearn.metrics import confusion_matrix \n",
        "\n",
        "  \n",
        " \n",
        "sc = StandardScaler() \n",
        "  \n",
        "X_train = sc.fit_transform(X_train) \n",
        "X_test = sc.transform(X_test)\n",
        "\n",
        "pca = PCA(n_components = 1, svd_solver='arpack') \n",
        "  \n",
        "X_train = pca.fit_transform(X_train) \n",
        "X_test = pca.transform(X_test) \n",
        "  \n",
        "explained_variance = pca.explained_variance_ratio_\n",
        "\n",
        "\n",
        "  \n",
        "classifier = LogisticRegression(random_state = 0) \n",
        "classifier.fit(X_train, y_train)\n",
        "\n",
        "y_pred = classifier.predict(X_test) \n",
        "\n",
        "\n",
        "  \n",
        "cm = confusion_matrix(y_test, y_pred)"
      ],
      "execution_count": 0,
      "outputs": [
        {
          "output_type": "stream",
          "text": [
            "/usr/local/lib/python3.6/dist-packages/sklearn/linear_model/logistic.py:432: FutureWarning: Default solver will be changed to 'lbfgs' in 0.22. Specify a solver to silence this warning.\n",
            "  FutureWarning)\n"
          ],
          "name": "stderr"
        }
      ]
    },
    {
      "cell_type": "code",
      "metadata": {
        "id": "r50dxdQeNuio",
        "colab_type": "code",
        "outputId": "6201f855-8d12-4511-a3d3-93147154df94",
        "colab": {
          "base_uri": "https://localhost:8080/",
          "height": 383
        }
      },
      "source": [
        "\n",
        "\n",
        "# Predicting the training set \n",
        "# result through scatter plot  \n",
        "from matplotlib.colors import ListedColormap \n",
        "  \n",
        "  \n",
        "  \n",
        "print(\"\\n after applying pca\")\n",
        "\n",
        "X_set, y_set = X_train, y_train \n",
        "X1, X2 = np.meshgrid(np.arange(start = X_set[:, 0].min() - 1, \n",
        "                     stop = X_set[:, 0].max() + 1, step = 0.01), \n",
        "                     np.arange(start = X_set[:, 1].min() - 1, \n",
        "                     stop = X_set[:, 1].max() + 1, step = 0.01)) \n",
        "  \n",
        "plt.contourf(X1, X2, classifier.predict(np.array([X1.ravel(), \n",
        "             X2.ravel()]).T).reshape(X1.shape), alpha = 0.75, \n",
        "             cmap = ListedColormap(('yellow', 'white', 'aquamarine'))) \n",
        "  \n",
        "plt.xlim(X1.min(), X1.max()) \n",
        "plt.ylim(X2.min(), X2.max()) \n",
        "  \n",
        "for i, j in enumerate(np.unique(y_set)): \n",
        "    plt.scatter(X_set[y_set == j, 0], X_set[y_set == j, 1], \n",
        "                c = ListedColormap(('red', 'green', 'blue'))(i), label = j) \n",
        "  \n",
        "plt.title('Logistic Regression (Training set)') \n",
        "plt.xlabel('PC1') # for Xlabel \n",
        "plt.ylabel('PC2') # for Ylabel \n",
        "plt.legend() # to show legend \n",
        "  \n",
        "# show scatter plot \n",
        "plt.show() \n",
        "\n",
        "\n",
        "\n",
        "\n",
        "\n",
        "\n",
        "\n",
        "\n"
      ],
      "execution_count": 0,
      "outputs": [
        {
          "output_type": "stream",
          "text": [
            "'c' argument looks like a single numeric RGB or RGBA sequence, which should be avoided as value-mapping will have precedence in case its length matches with 'x' & 'y'.  Please use a 2-D array with a single row if you really want to specify the same RGB or RGBA value for all points.\n",
            "'c' argument looks like a single numeric RGB or RGBA sequence, which should be avoided as value-mapping will have precedence in case its length matches with 'x' & 'y'.  Please use a 2-D array with a single row if you really want to specify the same RGB or RGBA value for all points.\n"
          ],
          "name": "stderr"
        },
        {
          "output_type": "stream",
          "text": [
            "\n",
            " after applying pca\n"
          ],
          "name": "stdout"
        },
        {
          "output_type": "display_data",
          "data": {
            "image/png": "[encoded data removed]",
            "text/plain": [
              "<Figure size 432x288 with 1 Axes>"
            ]
          },
          "metadata": {
            "tags": []
          }
        }
      ]
    },
    {
      "cell_type": "code",
      "metadata": {
        "id": "vVYYn8UrPecc",
        "colab_type": "code",
        "colab": {}
      },
      "source": [
        ""
      ],
      "execution_count": 0,
      "outputs": []
    },
    {
      "cell_type": "code",
      "metadata": {
        "id": "Fjc5s51ZOZNY",
        "colab_type": "code",
        "outputId": "82543200-1acd-41f7-ab11-6f5799ba2e2d",
        "colab": {
          "base_uri": "https://localhost:8080/",
          "height": 231
        }
      },
      "source": [
        "# Visualising the Test set results through scatter plot \n",
        "from matplotlib.colors import ListedColormap \n",
        "  \n",
        "X_set, y_set = X_test, y_test \n",
        "  \n",
        "X1, X2 = np.meshgrid(np.arange(start = X_set[:, 0].min() - 1, \n",
        "                     stop = X_set[:, 0].max() + 1, step = 0.01), \n",
        "                     np.arange(start = X_set[:, 1].min() - 1, \n",
        "                     stop = X_set[:, 1].max() + 1, step = 0.01)) \n",
        "  \n",
        "plt.contourf(X1, X2, classifier.predict(np.array([X1.ravel(), \n",
        "             X2.ravel()]).T).reshape(X1.shape), alpha = 0.75, \n",
        "             cmap = ListedColormap(('yellow', 'white', 'aquamarine')))  \n",
        "  \n",
        "plt.xlim(X1.min(), X1.max()) \n",
        "plt.ylim(X2.min(), X2.max()) \n",
        "  \n",
        "for i, j in enumerate(np.unique(y_set)): \n",
        "    plt.scatter(X_set[y_set == j, 0], X_set[y_set == j, 1], \n",
        "                c = ListedColormap(('red', 'green', 'blue'))(i), label = j) \n",
        "  \n",
        "# title for scatter plot \n",
        "plt.title('Logistic Regression (Test set)')  \n",
        "plt.xlabel('PC1') # for Xlabel \n",
        "plt.ylabel('PC2') # for Ylabel \n",
        "plt.legend() \n",
        "  \n",
        "# show scatter plot \n",
        "plt.show() "
      ],
      "execution_count": 0,
      "outputs": [
        {
          "output_type": "error",
          "ename": "NameError",
          "evalue": "ignored",
          "traceback": [
            "\u001b[0;31m---------------------------------------------------------------------------\u001b[0m",
            "\u001b[0;31mNameError\u001b[0m                                 Traceback (most recent call last)",
            "\u001b[0;32m<ipython-input-1-a6d1d7f89b2b>\u001b[0m in \u001b[0;36m<module>\u001b[0;34m()\u001b[0m\n\u001b[1;32m      1\u001b[0m \u001b[0;32mfrom\u001b[0m \u001b[0mmatplotlib\u001b[0m\u001b[0;34m.\u001b[0m\u001b[0mcolors\u001b[0m \u001b[0;32mimport\u001b[0m \u001b[0mListedColormap\u001b[0m\u001b[0;34m\u001b[0m\u001b[0;34m\u001b[0m\u001b[0m\n\u001b[1;32m      2\u001b[0m \u001b[0;34m\u001b[0m\u001b[0m\n\u001b[0;32m----> 3\u001b[0;31m \u001b[0mX_set\u001b[0m\u001b[0;34m,\u001b[0m \u001b[0my_set\u001b[0m \u001b[0;34m=\u001b[0m \u001b[0mX_test\u001b[0m\u001b[0;34m,\u001b[0m \u001b[0my_test\u001b[0m\u001b[0;34m\u001b[0m\u001b[0;34m\u001b[0m\u001b[0m\n\u001b[0m\u001b[1;32m      4\u001b[0m \u001b[0;34m\u001b[0m\u001b[0m\n\u001b[1;32m      5\u001b[0m X1, X2 = np.meshgrid(np.arange(start = X_set[:, 0].min() - 1, \n",
            "\u001b[0;31mNameError\u001b[0m: name 'X_test' is not defined"
          ]
        }
      ]
    },
    {
      "cell_type": "code",
      "metadata": {
        "id": "07O5IRNG6JUG",
        "colab_type": "code",
        "outputId": "a739995a-5e59-4c76-907d-2878e697d36c",
        "colab": {
          "base_uri": "https://localhost:8080/",
          "height": 731
        }
      },
      "source": [
        "# Visualising the Training set results\n",
        "'''from matplotlib.colors import ListedColormap\n",
        "X_set, y_set = X_train, y_train\n",
        "X1, X2 = np.meshgrid(np.arange(start = X_set[:, 0].min() - 1, stop = X_set[:, 0].max() + 1, step = 0.01),\n",
        "                     np.arange(start = X_set[:, 1].min() - 1, stop = X_set[:, 1].max() + 1, step = 0.01))\n",
        "plt.contourf(X1, X2, classifier.predict(np.array([X1.ravel(), X2.ravel()]).T).reshape(X1.shape),\n",
        "             alpha = 0.75, cmap = ListedColormap(('red', 'green')))\n",
        "plt.xlim(X1.min(), X1.max())\n",
        "plt.ylim(X2.min(), X2.max())\n",
        "for i, j in enumerate(np.unique(y_set)):\n",
        "    plt.scatter(X_set[y_set == j, 0], X_set[y_set == j, 1],\n",
        "                c = ListedColormap(('red', 'green'))(i), label = j)\n",
        "plt.title('Logistic Regression (Training set)')\n",
        "plt.xlabel('Age')\n",
        "plt.ylabel('Estimated Salary')\n",
        "plt.legend()\n",
        "plt.show()\n",
        "\n",
        "# Visualising the Test set results\n",
        "from matplotlib.colors import ListedColormap\n",
        "X_set, y_set = X_test, y_test\n",
        "X1, X2 = np.meshgrid(np.arange(start = X_set[:, 0].min() - 1, stop = X_set[:, 0].max() + 1, step = 0.01),\n",
        "                     np.arange(start = X_set[:, 1].min() - 1, stop = X_set[:, 1].max() + 1, step = 0.01))\n",
        "plt.contourf(X1, X2, classifier.predict(np.array([X1.ravel(), X2.ravel()]).T).reshape(X1.shape),\n",
        "             alpha = 0.75, cmap = ListedColormap(('red', 'green')))\n",
        "plt.xlim(X1.min(), X1.max())\n",
        "plt.ylim(X2.min(), X2.max())\n",
        "for i, j in enumerate(np.unique(y_set)):\n",
        "    plt.scatter(X_set[y_set == j, 0], X_set[y_set == j, 1],\n",
        "                c = ListedColormap(('red', 'green'))(i), label = j)\n",
        "plt.title('Logistic Regression (Test set)')\n",
        "plt.xlabel('Age')\n",
        "plt.ylabel('Estimated Salary')\n",
        "plt.legend()\n",
        "plt.show()'''\n"
      ],
      "execution_count": 0,
      "outputs": [
        {
          "output_type": "error",
          "ename": "ValueError",
          "evalue": "ignored",
          "traceback": [
            "\u001b[0;31m---------------------------------------------------------------------------\u001b[0m",
            "\u001b[0;31mValueError\u001b[0m                                Traceback (most recent call last)",
            "\u001b[0;32m<ipython-input-9-e7f6f23fd469>\u001b[0m in \u001b[0;36m<module>\u001b[0;34m()\u001b[0m\n\u001b[1;32m      3\u001b[0m X1, X2 = np.meshgrid(np.arange(start = X_set[:, 0].min() - 1, stop = X_set[:, 0].max() + 1, step = 0.01),\n\u001b[1;32m      4\u001b[0m                      np.arange(start = X_set[:, 1].min() - 1, stop = X_set[:, 1].max() + 1, step = 0.01))\n\u001b[0;32m----> 5\u001b[0;31m plt.contourf(X1, X2, classifier.predict(np.array([X1.ravel(), X2.ravel()]).T).reshape(X1.shape),\n\u001b[0m\u001b[1;32m      6\u001b[0m              alpha = 0.75, cmap = ListedColormap(('red', 'green')))\n\u001b[1;32m      7\u001b[0m \u001b[0mplt\u001b[0m\u001b[0;34m.\u001b[0m\u001b[0mxlim\u001b[0m\u001b[0;34m(\u001b[0m\u001b[0mX1\u001b[0m\u001b[0;34m.\u001b[0m\u001b[0mmin\u001b[0m\u001b[0;34m(\u001b[0m\u001b[0;34m)\u001b[0m\u001b[0;34m,\u001b[0m \u001b[0mX1\u001b[0m\u001b[0;34m.\u001b[0m\u001b[0mmax\u001b[0m\u001b[0;34m(\u001b[0m\u001b[0;34m)\u001b[0m\u001b[0;34m)\u001b[0m\u001b[0;34m\u001b[0m\u001b[0;34m\u001b[0m\u001b[0m\n",
            "\u001b[0;32m/usr/local/lib/python3.6/dist-packages/sklearn/ensemble/forest.py\u001b[0m in \u001b[0;36mpredict\u001b[0;34m(self, X)\u001b[0m\n\u001b[1;32m    543\u001b[0m             \u001b[0mThe\u001b[0m \u001b[0mpredicted\u001b[0m \u001b[0mclasses\u001b[0m\u001b[0;34m.\u001b[0m\u001b[0;34m\u001b[0m\u001b[0;34m\u001b[0m\u001b[0m\n\u001b[1;32m    544\u001b[0m         \"\"\"\n\u001b[0;32m--> 545\u001b[0;31m         \u001b[0mproba\u001b[0m \u001b[0;34m=\u001b[0m \u001b[0mself\u001b[0m\u001b[0;34m.\u001b[0m\u001b[0mpredict_proba\u001b[0m\u001b[0;34m(\u001b[0m\u001b[0mX\u001b[0m\u001b[0;34m)\u001b[0m\u001b[0;34m\u001b[0m\u001b[0;34m\u001b[0m\u001b[0m\n\u001b[0m\u001b[1;32m    546\u001b[0m \u001b[0;34m\u001b[0m\u001b[0m\n\u001b[1;32m    547\u001b[0m         \u001b[0;32mif\u001b[0m \u001b[0mself\u001b[0m\u001b[0;34m.\u001b[0m\u001b[0mn_outputs_\u001b[0m \u001b[0;34m==\u001b[0m \u001b[0;36m1\u001b[0m\u001b[0;34m:\u001b[0m\u001b[0;34m\u001b[0m\u001b[0;34m\u001b[0m\u001b[0m\n",
            "\u001b[0;32m/usr/local/lib/python3.6/dist-packages/sklearn/ensemble/forest.py\u001b[0m in \u001b[0;36mpredict_proba\u001b[0;34m(self, X)\u001b[0m\n\u001b[1;32m    586\u001b[0m         \u001b[0mcheck_is_fitted\u001b[0m\u001b[0;34m(\u001b[0m\u001b[0mself\u001b[0m\u001b[0;34m,\u001b[0m \u001b[0;34m'estimators_'\u001b[0m\u001b[0;34m)\u001b[0m\u001b[0;34m\u001b[0m\u001b[0;34m\u001b[0m\u001b[0m\n\u001b[1;32m    587\u001b[0m         \u001b[0;31m# Check data\u001b[0m\u001b[0;34m\u001b[0m\u001b[0;34m\u001b[0m\u001b[0;34m\u001b[0m\u001b[0m\n\u001b[0;32m--> 588\u001b[0;31m         \u001b[0mX\u001b[0m \u001b[0;34m=\u001b[0m \u001b[0mself\u001b[0m\u001b[0;34m.\u001b[0m\u001b[0m_validate_X_predict\u001b[0m\u001b[0;34m(\u001b[0m\u001b[0mX\u001b[0m\u001b[0;34m)\u001b[0m\u001b[0;34m\u001b[0m\u001b[0;34m\u001b[0m\u001b[0m\n\u001b[0m\u001b[1;32m    589\u001b[0m \u001b[0;34m\u001b[0m\u001b[0m\n\u001b[1;32m    590\u001b[0m         \u001b[0;31m# Assign chunk of trees to jobs\u001b[0m\u001b[0;34m\u001b[0m\u001b[0;34m\u001b[0m\u001b[0;34m\u001b[0m\u001b[0m\n",
            "\u001b[0;32m/usr/local/lib/python3.6/dist-packages/sklearn/ensemble/forest.py\u001b[0m in \u001b[0;36m_validate_X_predict\u001b[0;34m(self, X)\u001b[0m\n\u001b[1;32m    357\u001b[0m                                  \"call `fit` before exploiting the model.\")\n\u001b[1;32m    358\u001b[0m \u001b[0;34m\u001b[0m\u001b[0m\n\u001b[0;32m--> 359\u001b[0;31m         \u001b[0;32mreturn\u001b[0m \u001b[0mself\u001b[0m\u001b[0;34m.\u001b[0m\u001b[0mestimators_\u001b[0m\u001b[0;34m[\u001b[0m\u001b[0;36m0\u001b[0m\u001b[0;34m]\u001b[0m\u001b[0;34m.\u001b[0m\u001b[0m_validate_X_predict\u001b[0m\u001b[0;34m(\u001b[0m\u001b[0mX\u001b[0m\u001b[0;34m,\u001b[0m \u001b[0mcheck_input\u001b[0m\u001b[0;34m=\u001b[0m\u001b[0;32mTrue\u001b[0m\u001b[0;34m)\u001b[0m\u001b[0;34m\u001b[0m\u001b[0;34m\u001b[0m\u001b[0m\n\u001b[0m\u001b[1;32m    360\u001b[0m \u001b[0;34m\u001b[0m\u001b[0m\n\u001b[1;32m    361\u001b[0m     \u001b[0;34m@\u001b[0m\u001b[0mproperty\u001b[0m\u001b[0;34m\u001b[0m\u001b[0;34m\u001b[0m\u001b[0m\n",
            "\u001b[0;32m/usr/local/lib/python3.6/dist-packages/sklearn/tree/tree.py\u001b[0m in \u001b[0;36m_validate_X_predict\u001b[0;34m(self, X, check_input)\u001b[0m\n\u001b[1;32m    400\u001b[0m                              \u001b[0;34m\"match the input. Model n_features is %s and \"\u001b[0m\u001b[0;34m\u001b[0m\u001b[0;34m\u001b[0m\u001b[0m\n\u001b[1;32m    401\u001b[0m                              \u001b[0;34m\"input n_features is %s \"\u001b[0m\u001b[0;34m\u001b[0m\u001b[0;34m\u001b[0m\u001b[0m\n\u001b[0;32m--> 402\u001b[0;31m                              % (self.n_features_, n_features))\n\u001b[0m\u001b[1;32m    403\u001b[0m \u001b[0;34m\u001b[0m\u001b[0m\n\u001b[1;32m    404\u001b[0m         \u001b[0;32mreturn\u001b[0m \u001b[0mX\u001b[0m\u001b[0;34m\u001b[0m\u001b[0;34m\u001b[0m\u001b[0m\n",
            "\u001b[0;31mValueError\u001b[0m: Number of features of the model must match the input. Model n_features is 27 and input n_features is 2 "
          ]
        }
      ]
    },
    {
      "cell_type": "code",
      "metadata": {
        "id": "Ilp7PjnU70lK",
        "colab_type": "code",
        "outputId": "54671522-cd39-4d36-8a10-047352b0a967",
        "colab": {
          "base_uri": "https://localhost:8080/",
          "height": 85
        }
      },
      "source": [
        "from sklearn.model_selection import cross_validate\n",
        "from sklearn.metrics import recall_score\n",
        "\n",
        "from sklearn import svm\n",
        "from sklearn import datasets\n",
        "\n",
        "iris=datasets.load_iris()\n",
        "\n",
        "scoring = ['precision_macro', 'recall_macro']\n",
        "clf = svm.SVC(kernel='linear', C=1, random_state=0)\n",
        "scores = cross_validate(clf, iris.data, iris.target, scoring=scoring,cv=5)\n",
        "sorted(scores.keys())\n",
        "#['fit_time', 'score_time', 'test_precision_macro', 'test_recall_macro']\n",
        "\n",
        "print(scores['test_recall_macro'])\n",
        "\n",
        "scores['test_recall_macro']\n",
        "\n",
        "\n",
        "print(scores['test_precision_macro'])\n",
        "scores['test_precision_macro']\n",
        "\n",
        "\n",
        "print(scores['score_time'])\n",
        "scores['score_time']\n",
        "\n",
        "\n",
        "print(scores.keys())\n",
        "\n",
        "\n",
        "\n",
        "#print(iris)"
      ],
      "execution_count": 0,
      "outputs": [
        {
          "output_type": "stream",
          "text": [
            "[0.96666667 1.         0.96666667 0.96666667 1.        ]\n",
            "[0.96969697 1.         0.96969697 0.96969697 1.        ]\n",
            "[0.00862432 0.00144005 0.00157189 0.00169373 0.00168037]\n",
            "dict_keys(['fit_time', 'score_time', 'test_precision_macro', 'test_recall_macro'])\n"
          ],
          "name": "stdout"
        }
      ]
    },
    {
      "cell_type": "code",
      "metadata": {
        "id": "i_chQZXtLefY",
        "colab_type": "code",
        "colab": {}
      },
      "source": [
        "rom matplotlib import pyplot as plt\n",
        "from matplotlib import style\n",
        "\n",
        "style.use('ggplot')\n",
        "x=['la','svm','rf']\n",
        "y=[pla,psa,pra]\n",
        "y1=[la,sa,ra]\n",
        "plt.plot(x,y,'g',label='with pca',linewidth=5)\n",
        "plt.plot(x,y1,'c',label='without pca',linewidth=5)\n",
        "\n",
        "plt.title('accuracy plot')\n",
        "plt.xlabel('model name')\n",
        "plt.ylabel('accuracy percentage')\n",
        "\n",
        "plt.legend()\n",
        "\n",
        "plt.grid(True,color='k')\n",
        "\n",
        "plt.show"
      ],
      "execution_count": 0,
      "outputs": []
    }
  ]
}