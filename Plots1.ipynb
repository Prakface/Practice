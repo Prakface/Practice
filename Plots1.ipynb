{
  "nbformat": 4,
  "nbformat_minor": 0,
  "metadata": {
    "colab": {
      "name": "Plots1.ipynb",
      "version": "0.3.2",
      "provenance": [],
      "collapsed_sections": [],
      "include_colab_link": true
    },
    "kernelspec": {
      "name": "python3",
      "display_name": "Python 3"
    }
  },
  "cells": [
    {
      "cell_type": "markdown",
      "metadata": {
        "id": "view-in-github",
        "colab_type": "text"
      },
      "source": [
        "<a href=\"https://colab.research.google.com/github/Prakface/Practice/blob/master/Plots1.ipynb\" target=\"_parent\"><img src=\"https://colab.research.google.com/assets/colab-badge.svg\" alt=\"Open In Colab\"/></a>"
      ]
    },
    {
      "cell_type": "code",
      "metadata": {
        "id": "48fPptT_-1uA",
        "colab_type": "code",
        "outputId": "0a7a2b0b-7b0e-4561-e6ec-5346c6493f4d",
        "colab": {
          "base_uri": "https://localhost:8080/",
          "height": 1181
        }
      },
      "source": [
        "import numpy as np\n",
        "import matplotlib.pyplot as plt\n",
        "import pandas as pd\n",
        "\n",
        "# Importing the dataset\n",
        "url='https://raw.githubusercontent.com/Prakface/Practice/master/initialFeatures.csv'\n",
        "\n",
        "data=pd.read_csv(url)\n",
        "\n",
        "\n",
        "print(data.isnull())\n",
        "\n",
        "#the follwoing line is used to remove null valued rows, but the index of rows still corresponds to old one , loses serial order\n",
        "data_modified= data.dropna()   \n",
        "\n",
        "\n",
        "#print(data_modified)\n",
        "\n",
        "\n",
        "#to arrange rows in serial order which are left in file, storeback modified data frame to a csv file and again read this new csv file into a data frame\n",
        "\n",
        "\n",
        "\n",
        "data_modified.to_csv(\"modifiedData.csv\", index=False)\n",
        "\n",
        "\n",
        "\n",
        "df2=pd.read_csv(\"modifiedData.csv\")\n",
        "\n",
        "#df2\n",
        "\n",
        "\n",
        "dataset = df2.drop(\"level\", axis = 1)\n",
        "data_X = dataset.iloc[:, 0:27].values\n",
        "data_y = dataset.iloc[:, 27].values\n",
        "from sklearn.utils import shuffle\n",
        "dataset = shuffle(dataset, random_state=0)\n",
        "\n",
        "\n",
        "\n"
      ],
      "execution_count": 77,
      "outputs": [
        {
          "output_type": "stream",
          "text": [
            "       image    url  question  original  ...  retweets_count   hour  level  result\n",
            "0      False  False     False     False  ...           False  False  False   False\n",
            "1       True   True      True      True  ...            True   True   True    True\n",
            "2      False  False     False     False  ...           False  False  False   False\n",
            "3       True   True      True      True  ...            True   True   True    True\n",
            "4      False  False     False     False  ...           False  False  False   False\n",
            "5       True   True      True      True  ...            True   True   True    True\n",
            "6      False  False     False     False  ...           False  False  False   False\n",
            "7       True   True      True      True  ...            True   True   True    True\n",
            "8      False  False     False     False  ...           False  False  False   False\n",
            "9       True   True      True      True  ...            True   True   True    True\n",
            "10     False  False     False     False  ...           False  False  False   False\n",
            "11      True   True      True      True  ...            True   True   True    True\n",
            "12     False  False     False     False  ...           False  False  False   False\n",
            "13      True   True      True      True  ...            True   True   True    True\n",
            "14     False  False     False     False  ...           False  False  False   False\n",
            "15      True   True      True      True  ...            True   True   True    True\n",
            "16     False  False     False     False  ...           False  False  False   False\n",
            "17      True   True      True      True  ...            True   True   True    True\n",
            "18     False  False     False     False  ...           False  False  False   False\n",
            "19      True   True      True      True  ...            True   True   True    True\n",
            "20     False  False     False     False  ...           False  False  False   False\n",
            "21      True   True      True      True  ...            True   True   True    True\n",
            "22     False  False     False     False  ...           False  False  False   False\n",
            "23      True   True      True      True  ...            True   True   True    True\n",
            "24     False  False     False     False  ...           False  False  False   False\n",
            "25      True   True      True      True  ...            True   True   True    True\n",
            "26     False  False     False     False  ...           False  False  False   False\n",
            "27      True   True      True      True  ...            True   True   True    True\n",
            "28     False  False     False     False  ...           False  False  False   False\n",
            "29      True   True      True      True  ...            True   True   True    True\n",
            "...      ...    ...       ...       ...  ...             ...    ...    ...     ...\n",
            "11719   True   True      True      True  ...            True   True   True    True\n",
            "11720  False  False     False     False  ...           False  False  False   False\n",
            "11721   True   True      True      True  ...            True   True   True    True\n",
            "11722  False  False     False     False  ...           False  False  False   False\n",
            "11723   True   True      True      True  ...            True   True   True    True\n",
            "11724  False  False     False     False  ...           False  False  False   False\n",
            "11725   True   True      True      True  ...            True   True   True    True\n",
            "11726  False  False     False     False  ...           False  False  False   False\n",
            "11727   True   True      True      True  ...            True   True   True    True\n",
            "11728  False  False     False     False  ...           False  False  False   False\n",
            "11729   True   True      True      True  ...            True   True   True    True\n",
            "11730  False  False     False     False  ...           False  False  False   False\n",
            "11731   True   True      True      True  ...            True   True   True    True\n",
            "11732  False  False     False     False  ...           False  False  False   False\n",
            "11733   True   True      True      True  ...            True   True   True    True\n",
            "11734  False  False     False     False  ...           False  False  False   False\n",
            "11735   True   True      True      True  ...            True   True   True    True\n",
            "11736  False  False     False     False  ...           False  False  False   False\n",
            "11737   True   True      True      True  ...            True   True   True    True\n",
            "11738  False  False     False     False  ...           False  False  False   False\n",
            "11739   True   True      True      True  ...            True   True   True    True\n",
            "11740  False  False     False     False  ...           False  False  False   False\n",
            "11741   True   True      True      True  ...            True   True   True    True\n",
            "11742  False  False     False     False  ...           False  False  False   False\n",
            "11743   True   True      True      True  ...            True   True   True    True\n",
            "11744  False  False     False     False  ...           False  False  False   False\n",
            "11745   True   True      True      True  ...            True   True   True    True\n",
            "11746  False  False     False     False  ...           False  False  False   False\n",
            "11747   True   True      True      True  ...            True   True   True    True\n",
            "11748  False  False     False     False  ...           False  False  False   False\n",
            "\n",
            "[11749 rows x 29 columns]\n"
          ],
          "name": "stdout"
        }
      ]
    },
    {
      "cell_type": "code",
      "metadata": {
        "id": "fOmTp2rX_fu0",
        "colab_type": "code",
        "outputId": "06e2a220-cc7f-4f8d-cd0d-4b0b31e4e4ca",
        "colab": {
          "base_uri": "https://localhost:8080/",
          "height": 2023
        }
      },
      "source": [
        "import json\n",
        "from matplotlib import pyplot as plt\n",
        "import urllib.request\n",
        "import pandas as pd\n",
        "\n",
        "\n",
        "plt.xlabel(\"tweeting time\")\n",
        "plt.ylabel(\"number of tweets\")\n",
        "plt.title(\"Tweeting time\")\n",
        "\n",
        "rp_time = []\n",
        "rn_time = []\n",
        "\n",
        "#url = 'https://raw.githubusercontent.com/Prakface/Practice/master/rp_rn1.json'\n",
        "'''\n",
        "with urllib.request.urlopen(\"https://raw.githubusercontent.com/Prakface/Practice/master/rp_rn1.json\") as url:\n",
        "    data = json.loads(url.read().decode())\n",
        "    print(data)\n",
        "'''\n",
        "'''\n",
        "with open('rp_rn1.json', 'r') as f:\n",
        "    for line in f:\n",
        "        tweet = json.loads(line)\n",
        "        data=tweet['hour']\n",
        "        if tweet['result'] ==1:\n",
        "            rp_time.append(data)\n",
        "        else:\n",
        "            rn_time.append(data)\n",
        "'''\n",
        "\n",
        "url = 'https://raw.githubusercontent.com/Prakface/Practice/master/rp_rn1.json'\n",
        "\n",
        "dt=pd.read_json(url, lines=True)\n",
        "\n",
        "#print(dt)\n",
        "    \n",
        "print(dt.head())\n",
        "\n",
        "col=dt.columns\n",
        "\n",
        "print(col.values)\n",
        "\n",
        "print(len(col.values))\n",
        "\n",
        "print(dt.iloc[1:5])\n",
        "\n",
        "print((dt.iloc[4:8])[['cat1', 'url']])\n",
        "\n",
        "print(dt[[\"cat1\", \"url\"]])\n",
        "\n",
        "dt1= dt.iloc[1:5, 10:15]\n",
        "print(dt1)\n",
        "\n",
        "#plt.hist([rp_time,rn_time], bins=[1,2,3,4,5,6,7,8,9,10,11,12,13,14,15,16,17,18,19,20,21,22,23,24], rwidth=0.95, color=['green','orange'],label=['result_positive','result_negitive'])"
      ],
      "execution_count": 78,
      "outputs": [
        {
          "output_type": "stream",
          "text": [
            "   cat1  cat10  cat2  ...            tweet_id  url      user_name\n",
            "0     0      1     0  ...  832378953843236864    0  THEJEROMEOWEN\n",
            "1     0      0     0  ...  832378580478726144    0       Acejinjo\n",
            "2     0      0     0  ...  832377959260434432    0     RabRakha21\n",
            "3     0      0     0  ...  832377691231789056    0       RS_Aloha\n",
            "4     0      1     0  ...  832376700952539136    0  preciselyizzy\n",
            "\n",
            "[5 rows x 39 columns]\n",
            "['cat1' 'cat10' 'cat2' 'cat3' 'cat4' 'cat5' 'cat6' 'cat7' 'cat8' 'cat9'\n",
            " 'favorite_count' 'hour' 'image' 'level' 'nadj' 'nadv' 'nemoji' 'nlevel'\n",
            " 'nword' 'orginal' 'padj' 'padv' 'pemoji' 'plevel' 'pnoun' 'punc1' 'punc2'\n",
            " 'punc3' 'pword' 'question' 'result' 'retweets_count' 'sarcasm'\n",
            " 'sentiment' 'text' 'time' 'tweet_id' 'url' 'user_name']\n",
            "39\n",
            "   cat1  cat10  cat2  ...            tweet_id  url      user_name\n",
            "1     0      0     0  ...  832378580478726144    0       Acejinjo\n",
            "2     0      0     0  ...  832377959260434432    0     RabRakha21\n",
            "3     0      0     0  ...  832377691231789056    0       RS_Aloha\n",
            "4     0      1     0  ...  832376700952539136    0  preciselyizzy\n",
            "\n",
            "[4 rows x 39 columns]\n",
            "   cat1  url\n",
            "4     0    0\n",
            "5     0    0\n",
            "6     0    0\n",
            "7     0    0\n",
            "      cat1  url\n",
            "0        0    0\n",
            "1        0    0\n",
            "2        0    0\n",
            "3        0    0\n",
            "4        0    0\n",
            "5        0    0\n",
            "6        0    0\n",
            "7        0    0\n",
            "8        0    1\n",
            "9        0    0\n",
            "10       0    1\n",
            "11       0    0\n",
            "12       0    0\n",
            "13       0    0\n",
            "14       0    0\n",
            "15       0    0\n",
            "16       0    1\n",
            "17       0    0\n",
            "18       0    0\n",
            "19       0    0\n",
            "20       0    0\n",
            "21       0    0\n",
            "22       0    0\n",
            "23       0    1\n",
            "24       0    1\n",
            "25       0    0\n",
            "26       0    0\n",
            "27       0    0\n",
            "28       0    0\n",
            "29       0    0\n",
            "...    ...  ...\n",
            "1897     0    0\n",
            "1898     0    0\n",
            "1899     0    1\n",
            "1900     0    0\n",
            "1901     0    1\n",
            "1902     0    0\n",
            "1903     0    0\n",
            "1904     0    1\n",
            "1905     0    0\n",
            "1906     0    0\n",
            "1907     0    1\n",
            "1908     0    0\n",
            "1909     0    0\n",
            "1910     0    0\n",
            "1911     0    0\n",
            "1912     0    1\n",
            "1913     0    0\n",
            "1914     0    0\n",
            "1915     0    0\n",
            "1916     0    0\n",
            "1917     0    0\n",
            "1918     0    0\n",
            "1919     0    0\n",
            "1920     0    0\n",
            "1921     0    0\n",
            "1922     0    1\n",
            "1923     0    0\n",
            "1924     0    1\n",
            "1925     0    0\n",
            "1926     0    0\n",
            "\n",
            "[1927 rows x 2 columns]\n",
            "   favorite_count  hour  image     level  nadj\n",
            "1               0    23      0  0.045455     1\n",
            "2               0    23      0  0.041667     0\n",
            "3              12    23      0  0.035714     0\n",
            "4              17    23      0  0.000000     2\n"
          ],
          "name": "stdout"
        },
        {
          "output_type": "display_data",
          "data": {
            "image/png": "[encoded data removed]",
            "text/plain": [
              "<Figure size 432x288 with 1 Axes>"
            ]
          },
          "metadata": {
            "tags": []
          }
        }
      ]
    },
    {
      "cell_type": "code",
      "metadata": {
        "id": "EnJNDwZ8c0MW",
        "colab_type": "code",
        "colab": {
          "base_uri": "https://localhost:8080/",
          "height": 600
        },
        "outputId": "1f71fc10-2d63-4d6e-dd98-74e1d6823cae"
      },
      "source": [
        "dt.iloc[0:2,0:5]\n",
        "\n",
        "dt.iloc[0, :]\n",
        "#axis=0 means rows, axis =1 means columns\n",
        "\n",
        "dt1=dt.drop([\"text\", \"time\", \"tweet_id\", \"user_name\"], axis=1)\n",
        "print(dt1.head())\n",
        "\n",
        "#the last column of csv file has class label stress\n",
        "\n",
        "url1='https://raw.githubusercontent.com/Prakface/Practice/master/rp_rn1%20CSV.csv'\n",
        "\n",
        "dt2=pd.read_csv(url1, header=None)   # As there is no header for this csv file\n",
        "\n",
        "#accessing last column of the data frame dt2\n",
        "\n",
        "stress=dt2.iloc[: , -1]\n",
        "# checking for the equality of length of columns (number of rows) in two data frames\n",
        "\n",
        "print(len(dt2.iloc[: , -1]))\n",
        "print(len(stress))\n",
        "\n",
        "\n",
        "print(len(dt1.iloc[:, -1]))\n",
        "\n",
        "print(dt2.columns)\n",
        "print(dt1.columns)\n",
        "\n",
        "\n",
        "# adding stress column to dt1 data frame\n",
        "\n",
        "dt3=dt1.assign(stress_class=stress)\n",
        "\n",
        "\n",
        "dt3.head()\n",
        "\n",
        "# here already class label is in the column of result.. so need of taking \n",
        "\n",
        "\n",
        "\n",
        "\n"
      ],
      "execution_count": 79,
      "outputs": [
        {
          "output_type": "stream",
          "text": [
            "   cat1  cat10  cat2  cat3  ...  retweets_count  sarcasm  sentiment  url\n",
            "0     0      1     0     0  ...               0        0          0    0\n",
            "1     0      0     0     0  ...               0        0         -1    0\n",
            "2     0      0     0     0  ...               0        0          1    0\n",
            "3     0      0     0     0  ...               1        0          1    0\n",
            "4     0      1     0     0  ...               0        0         -1    0\n",
            "\n",
            "[5 rows x 35 columns]\n",
            "1927\n",
            "1927\n",
            "1927\n",
            "Int64Index([ 0,  1,  2,  3,  4,  5,  6,  7,  8,  9, 10, 11, 12, 13, 14, 15, 16,\n",
            "            17, 18, 19, 20, 21, 22, 23, 24, 25, 26, 27, 28, 29, 30, 31, 32, 33,\n",
            "            34],\n",
            "           dtype='int64')\n",
            "Index(['cat1', 'cat10', 'cat2', 'cat3', 'cat4', 'cat5', 'cat6', 'cat7', 'cat8',\n",
            "       'cat9', 'favorite_count', 'hour', 'image', 'level', 'nadj', 'nadv',\n",
            "       'nemoji', 'nlevel', 'nword', 'orginal', 'padj', 'padv', 'pemoji',\n",
            "       'plevel', 'pnoun', 'punc1', 'punc2', 'punc3', 'pword', 'question',\n",
            "       'result', 'retweets_count', 'sarcasm', 'sentiment', 'url'],\n",
            "      dtype='object')\n"
          ],
          "name": "stdout"
        },
        {
          "output_type": "execute_result",
          "data": {
            "text/html": [
              "<div>\n",
              "<style scoped>\n",
              "    .dataframe tbody tr th:only-of-type {\n",
              "        vertical-align: middle;\n",
              "    }\n",
              "\n",
              "    .dataframe tbody tr th {\n",
              "        vertical-align: top;\n",
              "    }\n",
              "\n",
              "    .dataframe thead th {\n",
              "        text-align: right;\n",
              "    }\n",
              "</style>\n",
              "<table border=\"1\" class=\"dataframe\">\n",
              "  <thead>\n",
              "    <tr style=\"text-align: right;\">\n",
              "      <th></th>\n",
              "      <th>cat1</th>\n",
              "      <th>cat10</th>\n",
              "      <th>cat2</th>\n",
              "      <th>cat3</th>\n",
              "      <th>cat4</th>\n",
              "      <th>cat5</th>\n",
              "      <th>cat6</th>\n",
              "      <th>cat7</th>\n",
              "      <th>cat8</th>\n",
              "      <th>cat9</th>\n",
              "      <th>favorite_count</th>\n",
              "      <th>hour</th>\n",
              "      <th>image</th>\n",
              "      <th>level</th>\n",
              "      <th>nadj</th>\n",
              "      <th>nadv</th>\n",
              "      <th>nemoji</th>\n",
              "      <th>nlevel</th>\n",
              "      <th>nword</th>\n",
              "      <th>orginal</th>\n",
              "      <th>padj</th>\n",
              "      <th>padv</th>\n",
              "      <th>pemoji</th>\n",
              "      <th>plevel</th>\n",
              "      <th>pnoun</th>\n",
              "      <th>punc1</th>\n",
              "      <th>punc2</th>\n",
              "      <th>punc3</th>\n",
              "      <th>pword</th>\n",
              "      <th>question</th>\n",
              "      <th>result</th>\n",
              "      <th>retweets_count</th>\n",
              "      <th>sarcasm</th>\n",
              "      <th>sentiment</th>\n",
              "      <th>url</th>\n",
              "      <th>stress_class</th>\n",
              "    </tr>\n",
              "  </thead>\n",
              "  <tbody>\n",
              "    <tr>\n",
              "      <th>0</th>\n",
              "      <td>0</td>\n",
              "      <td>1</td>\n",
              "      <td>0</td>\n",
              "      <td>0</td>\n",
              "      <td>0</td>\n",
              "      <td>0</td>\n",
              "      <td>1</td>\n",
              "      <td>1</td>\n",
              "      <td>0</td>\n",
              "      <td>0</td>\n",
              "      <td>0</td>\n",
              "      <td>23</td>\n",
              "      <td>0</td>\n",
              "      <td>0.047619</td>\n",
              "      <td>0</td>\n",
              "      <td>0</td>\n",
              "      <td>0</td>\n",
              "      <td>0</td>\n",
              "      <td>0</td>\n",
              "      <td>1</td>\n",
              "      <td>0</td>\n",
              "      <td>0</td>\n",
              "      <td>0</td>\n",
              "      <td>0</td>\n",
              "      <td>1</td>\n",
              "      <td>0</td>\n",
              "      <td>0</td>\n",
              "      <td>0</td>\n",
              "      <td>0</td>\n",
              "      <td>0</td>\n",
              "      <td>1</td>\n",
              "      <td>0</td>\n",
              "      <td>0</td>\n",
              "      <td>0</td>\n",
              "      <td>0</td>\n",
              "      <td>1</td>\n",
              "    </tr>\n",
              "    <tr>\n",
              "      <th>1</th>\n",
              "      <td>0</td>\n",
              "      <td>0</td>\n",
              "      <td>0</td>\n",
              "      <td>0</td>\n",
              "      <td>0</td>\n",
              "      <td>0</td>\n",
              "      <td>0</td>\n",
              "      <td>3</td>\n",
              "      <td>0</td>\n",
              "      <td>0</td>\n",
              "      <td>0</td>\n",
              "      <td>23</td>\n",
              "      <td>0</td>\n",
              "      <td>0.045455</td>\n",
              "      <td>1</td>\n",
              "      <td>-1</td>\n",
              "      <td>0</td>\n",
              "      <td>-1</td>\n",
              "      <td>0</td>\n",
              "      <td>1</td>\n",
              "      <td>0</td>\n",
              "      <td>0</td>\n",
              "      <td>0</td>\n",
              "      <td>0</td>\n",
              "      <td>6</td>\n",
              "      <td>0</td>\n",
              "      <td>0</td>\n",
              "      <td>0</td>\n",
              "      <td>0</td>\n",
              "      <td>0</td>\n",
              "      <td>1</td>\n",
              "      <td>0</td>\n",
              "      <td>0</td>\n",
              "      <td>-1</td>\n",
              "      <td>0</td>\n",
              "      <td>1</td>\n",
              "    </tr>\n",
              "    <tr>\n",
              "      <th>2</th>\n",
              "      <td>0</td>\n",
              "      <td>0</td>\n",
              "      <td>0</td>\n",
              "      <td>0</td>\n",
              "      <td>0</td>\n",
              "      <td>0</td>\n",
              "      <td>0</td>\n",
              "      <td>1</td>\n",
              "      <td>0</td>\n",
              "      <td>1</td>\n",
              "      <td>0</td>\n",
              "      <td>23</td>\n",
              "      <td>0</td>\n",
              "      <td>0.041667</td>\n",
              "      <td>0</td>\n",
              "      <td>0</td>\n",
              "      <td>0</td>\n",
              "      <td>0</td>\n",
              "      <td>2</td>\n",
              "      <td>1</td>\n",
              "      <td>1</td>\n",
              "      <td>1</td>\n",
              "      <td>0</td>\n",
              "      <td>1</td>\n",
              "      <td>4</td>\n",
              "      <td>0</td>\n",
              "      <td>0</td>\n",
              "      <td>0</td>\n",
              "      <td>2</td>\n",
              "      <td>0</td>\n",
              "      <td>1</td>\n",
              "      <td>0</td>\n",
              "      <td>0</td>\n",
              "      <td>1</td>\n",
              "      <td>0</td>\n",
              "      <td>1</td>\n",
              "    </tr>\n",
              "    <tr>\n",
              "      <th>3</th>\n",
              "      <td>0</td>\n",
              "      <td>0</td>\n",
              "      <td>0</td>\n",
              "      <td>0</td>\n",
              "      <td>0</td>\n",
              "      <td>0</td>\n",
              "      <td>0</td>\n",
              "      <td>1</td>\n",
              "      <td>0</td>\n",
              "      <td>0</td>\n",
              "      <td>12</td>\n",
              "      <td>23</td>\n",
              "      <td>0</td>\n",
              "      <td>0.035714</td>\n",
              "      <td>0</td>\n",
              "      <td>0</td>\n",
              "      <td>0</td>\n",
              "      <td>0</td>\n",
              "      <td>3</td>\n",
              "      <td>1</td>\n",
              "      <td>3</td>\n",
              "      <td>1</td>\n",
              "      <td>0</td>\n",
              "      <td>1</td>\n",
              "      <td>3</td>\n",
              "      <td>0</td>\n",
              "      <td>0</td>\n",
              "      <td>0</td>\n",
              "      <td>3</td>\n",
              "      <td>0</td>\n",
              "      <td>1</td>\n",
              "      <td>1</td>\n",
              "      <td>0</td>\n",
              "      <td>1</td>\n",
              "      <td>0</td>\n",
              "      <td>1</td>\n",
              "    </tr>\n",
              "    <tr>\n",
              "      <th>4</th>\n",
              "      <td>0</td>\n",
              "      <td>1</td>\n",
              "      <td>0</td>\n",
              "      <td>0</td>\n",
              "      <td>0</td>\n",
              "      <td>0</td>\n",
              "      <td>1</td>\n",
              "      <td>0</td>\n",
              "      <td>0</td>\n",
              "      <td>0</td>\n",
              "      <td>17</td>\n",
              "      <td>23</td>\n",
              "      <td>0</td>\n",
              "      <td>0.000000</td>\n",
              "      <td>2</td>\n",
              "      <td>-1</td>\n",
              "      <td>0</td>\n",
              "      <td>-1</td>\n",
              "      <td>2</td>\n",
              "      <td>1</td>\n",
              "      <td>0</td>\n",
              "      <td>0</td>\n",
              "      <td>0</td>\n",
              "      <td>0</td>\n",
              "      <td>1</td>\n",
              "      <td>0</td>\n",
              "      <td>0</td>\n",
              "      <td>0</td>\n",
              "      <td>2</td>\n",
              "      <td>0</td>\n",
              "      <td>1</td>\n",
              "      <td>0</td>\n",
              "      <td>0</td>\n",
              "      <td>-1</td>\n",
              "      <td>0</td>\n",
              "      <td>1</td>\n",
              "    </tr>\n",
              "  </tbody>\n",
              "</table>\n",
              "</div>"
            ],
            "text/plain": [
              "   cat1  cat10  cat2  cat3  ...  sarcasm  sentiment  url  stress_class\n",
              "0     0      1     0     0  ...        0          0    0             1\n",
              "1     0      0     0     0  ...        0         -1    0             1\n",
              "2     0      0     0     0  ...        0          1    0             1\n",
              "3     0      0     0     0  ...        0          1    0             1\n",
              "4     0      1     0     0  ...        0         -1    0             1\n",
              "\n",
              "[5 rows x 36 columns]"
            ]
          },
          "metadata": {
            "tags": []
          },
          "execution_count": 79
        }
      ]
    },
    {
      "cell_type": "code",
      "metadata": {
        "id": "0nfQ1krQDkto",
        "colab_type": "code",
        "colab": {
          "base_uri": "https://localhost:8080/",
          "height": 504
        },
        "outputId": "3850fe79-ee3c-4ee9-ee2c-e9b0e0130edb"
      },
      "source": [
        "import json\n",
        "from matplotlib import pyplot as plt\n",
        "import urllib.request\n",
        "\n",
        "\n",
        "plt.xlabel(\"tweeting time\")\n",
        "plt.ylabel(\"number of tweets\")\n",
        "plt.title(\"Tweeting time\")\n",
        "\n",
        "rp_time = []\n",
        "rn_time = []\n",
        "\n",
        "#url = 'https://raw.githubusercontent.com/Prakface/Practice/master/rp_rn1.json'\n",
        "with urllib.request.urlopen(\"https://raw.githubusercontent.com/Prakface/Practice/master/rp_rn1.json\") as url:\n",
        "    dat\n",
        "    print(data)"
      ],
      "execution_count": 80,
      "outputs": [
        {
          "output_type": "error",
          "ename": "NameError",
          "evalue": "ignored",
          "traceback": [
            "\u001b[0;31m---------------------------------------------------------------------------\u001b[0m",
            "\u001b[0;31mNameError\u001b[0m                                 Traceback (most recent call last)",
            "\u001b[0;32m<ipython-input-80-d20d30bc3109>\u001b[0m in \u001b[0;36m<module>\u001b[0;34m()\u001b[0m\n\u001b[1;32m     13\u001b[0m \u001b[0;31m#url = 'https://raw.githubusercontent.com/Prakface/Practice/master/rp_rn1.json'\u001b[0m\u001b[0;34m\u001b[0m\u001b[0;34m\u001b[0m\u001b[0;34m\u001b[0m\u001b[0m\n\u001b[1;32m     14\u001b[0m \u001b[0;32mwith\u001b[0m \u001b[0murllib\u001b[0m\u001b[0;34m.\u001b[0m\u001b[0mrequest\u001b[0m\u001b[0;34m.\u001b[0m\u001b[0murlopen\u001b[0m\u001b[0;34m(\u001b[0m\u001b[0;34m\"https://raw.githubusercontent.com/Prakface/Practice/master/rp_rn1.json\"\u001b[0m\u001b[0;34m)\u001b[0m \u001b[0;32mas\u001b[0m \u001b[0murl\u001b[0m\u001b[0;34m:\u001b[0m\u001b[0;34m\u001b[0m\u001b[0;34m\u001b[0m\u001b[0m\n\u001b[0;32m---> 15\u001b[0;31m     \u001b[0mdat\u001b[0m\u001b[0;34m\u001b[0m\u001b[0;34m\u001b[0m\u001b[0m\n\u001b[0m\u001b[1;32m     16\u001b[0m     \u001b[0mprint\u001b[0m\u001b[0;34m(\u001b[0m\u001b[0mdata\u001b[0m\u001b[0;34m)\u001b[0m\u001b[0;34m\u001b[0m\u001b[0;34m\u001b[0m\u001b[0m\n",
            "\u001b[0;31mNameError\u001b[0m: name 'dat' is not defined"
          ]
        },
        {
          "output_type": "display_data",
          "data": {
            "image/png": "[encoded data removed]",
            "text/plain": [
              "<Figure size 432x288 with 1 Axes>"
            ]
          },
          "metadata": {
            "tags": []
          }
        }
      ]
    },
    {
      "cell_type": "code",
      "metadata": {
        "id": "aRG18pF-Eoaa",
        "colab_type": "code",
        "colab": {
          "base_uri": "https://localhost:8080/",
          "height": 297
        },
        "outputId": "e5bedf76-5710-4d1f-b833-2f4779725221"
      },
      "source": [
        "import numpy as np\n",
        "import matplotlib.pyplot as plt\n",
        "\n",
        "# data to plot\n",
        "n_groups = 4\n",
        "means_frank = (90, 55, 40, 65)\n",
        "means_guido = (85, 62, 54, 20)\n",
        "\n",
        "# create plot\n",
        "fig, ax = plt.subplots()\n",
        "index = np.arange(n_groups)\n",
        "bar_width = 0.35\n",
        "opacity = 0.8\n",
        "\n",
        "rects1 = plt.bar(index, means_frank, bar_width,\n",
        "alpha=opacity,\n",
        "color='b',\n",
        "label='Frank')\n",
        "\n",
        "rects2 = plt.bar(index + bar_width, means_guido, bar_width,\n",
        "alpha=opacity,\n",
        "color='g',\n",
        "label='Guido')\n",
        "\n",
        "plt.xlabel('Person')\n",
        "plt.ylabel('Scores')\n",
        "plt.title('Scores by person')\n",
        "plt.xticks(index + bar_width, ('A', 'B', 'C', 'D'))\n",
        "plt.legend()\n",
        "\n",
        "plt.tight_layout()\n",
        "plt.show()"
      ],
      "execution_count": 81,
      "outputs": [
        {
          "output_type": "display_data",
          "data": {
            "image/png": "[encoded data removed]",
            "text/plain": [
              "<Figure size 432x288 with 1 Axes>"
            ]
          },
          "metadata": {
            "tags": []
          }
        }
      ]
    },
    {
      "cell_type": "code",
      "metadata": {
        "id": "JLxe2V2oEtBS",
        "colab_type": "code",
        "colab": {
          "base_uri": "https://localhost:8080/",
          "height": 767
        },
        "outputId": "f9174a37-4223-49b1-d51e-5b87782f6d24"
      },
      "source": [
        "import numpy as np\n",
        "import matplotlib.pyplot as plt\n",
        "import statistics as st\n",
        "\n",
        "# data to plot\n",
        "n_groups = 24\n",
        "#means_frank = (90, 55, 40, 65)\n",
        "#means_guido = (85, 62, 54, 20)\n",
        "\n",
        "list1=[]\n",
        "list2=[]\n",
        "cnt=0\n",
        "\n",
        "for i, rows in dt1.iterrows():\n",
        "  cnt=cnt+1\n",
        "  \n",
        "print(\"\\n initial count \\n\", cnt)\n",
        "\n",
        "cnt=0\n",
        "\n",
        "for j, row in dt1.iterrows():\n",
        "  if row['result']==1:\n",
        "    list1.append(dt1['hour'][j])\n",
        "    #print(\"\\n pos \", row['hour'])\n",
        "  elif row['result']==0:\n",
        "    list2.append(dt1['hour'][j])\n",
        "    #print(\"\\n neg \", row['hour'])\n",
        "  \n",
        "\n",
        "\n",
        "print(list1[1:15])\n",
        "print(list2[1:15])\n",
        "\n",
        "print(len(list1))\n",
        "print(len(list2))\n",
        "\n",
        "l1=[0]*24\n",
        "l2=[0]*24\n",
        "\n",
        "print(l1)\n",
        "print(l2)\n",
        "\n",
        "\n",
        "for j in range(len(list1)):\n",
        "  t1=list1[j]\n",
        "  t1=int(t1)\n",
        "  l1[t1]=l1[t1]+1\n",
        "  \n",
        "for j in range(len(list2)):\n",
        "  t2=list2[j]\n",
        "  t2=int(t2)\n",
        "  l2[t2]=l2[t2]+1\n",
        "\n",
        "print(l1)\n",
        "print(l2)\n",
        "  \n",
        "    \n",
        "# create plot\n",
        "fig, ax = plt.subplots()\n",
        "index = np.arange(n_groups)\n",
        "bar_width = 0.35\n",
        "opacity = 0.8\n",
        "\n",
        "rects1 = plt.bar(index, l1, bar_width,\n",
        "alpha=opacity,\n",
        "color='r',\n",
        "label='Stressed')\n",
        "\n",
        "rects2 = plt.bar(index + bar_width, l2, bar_width,\n",
        "alpha=opacity,\n",
        "color='g',\n",
        "label='Not-Stressed')\n",
        "\n",
        "plt.xlabel('Time-Hour')\n",
        "plt.ylabel('Number of tweets')\n",
        "plt.title('Tweeting Times plots for each class')\n",
        "plt.xticks(index + bar_width, np.arange(24))\n",
        "plt.legend()\n",
        "\n",
        "plt.tight_layout()\n",
        "plt.show()\n",
        "\n",
        "#the following is other way of plotting the bar graph\n",
        "plt.hist([list1,list2], bins=[1,2,3,4,5,6,7,8,9,10,11,12,13,14,15,16,17,18,19,20,21,22,23,24], rwidth=0.95, color=['green','orange'],label=['result_positive','result_negitive'])\n",
        "plt.legend()"
      ],
      "execution_count": 121,
      "outputs": [
        {
          "output_type": "stream",
          "text": [
            "\n",
            " initial count \n",
            " 1927\n",
            "[23, 23, 23, 23, 23, 23, 23, 23, 23, 23, 23, 23, 23, 23]\n",
            "[23, 23, 23, 23, 23, 23, 23, 22, 22, 22, 22, 22, 22, 21]\n",
            "958\n",
            "969\n",
            "[0, 0, 0, 0, 0, 0, 0, 0, 0, 0, 0, 0, 0, 0, 0, 0, 0, 0, 0, 0, 0, 0, 0, 0]\n",
            "[0, 0, 0, 0, 0, 0, 0, 0, 0, 0, 0, 0, 0, 0, 0, 0, 0, 0, 0, 0, 0, 0, 0, 0]\n",
            "[31, 43, 33, 27, 34, 50, 43, 31, 29, 23, 24, 12, 27, 38, 35, 43, 48, 47, 59, 45, 56, 67, 60, 53]\n",
            "[36, 36, 59, 39, 48, 55, 38, 28, 28, 20, 27, 25, 25, 34, 18, 40, 45, 38, 44, 57, 52, 61, 68, 48]\n"
          ],
          "name": "stdout"
        },
        {
          "output_type": "display_data",
          "data": {
            "image/png": "[encoded data removed]",
            "text/plain": [
              "<Figure size 432x288 with 1 Axes>"
            ]
          },
          "metadata": {
            "tags": []
          }
        },
        {
          "output_type": "execute_result",
          "data": {
            "text/plain": [
              "<matplotlib.legend.Legend at 0x7f06c235a630>"
            ]
          },
          "metadata": {
            "tags": []
          },
          "execution_count": 121
        },
        {
          "output_type": "display_data",
          "data": {
            "image/png": "[encoded data removed]",
            "text/plain": [
              "<Figure size 432x288 with 1 Axes>"
            ]
          },
          "metadata": {
            "tags": []
          }
        }
      ]
    },
    {
      "cell_type": "code",
      "metadata": {
        "id": "BdGKpk3UHNkZ",
        "colab_type": "code",
        "colab": {
          "base_uri": "https://localhost:8080/",
          "height": 287
        },
        "outputId": "d5d5b001-cd27-4442-b777-06da828f0c3d"
      },
      "source": [
        "import numpy as np\n",
        "import matplotlib.pyplot as plt\n",
        "\n",
        "# data to plot\n",
        "pos1=[]\n",
        "pos2=[]\n",
        "neg1=[]\n",
        "neg2=[]\n",
        "\n",
        "\n",
        "for j, row in dt1.iterrows():\n",
        "  if row['result']==1:\n",
        "    pos1.append(dt1['pemoji'][j])\n",
        "    neg1.append(dt1['nemoji'][j])\n",
        "    \n",
        "    \n",
        "  elif row['result']==0:\n",
        "    pos2.append(dt1['pemoji'][j])\n",
        "    neg2.append(dt1['nemoji'][j])\n",
        "\n",
        "\n",
        "\n",
        "#plt.hist([pos1,neg1, pos2,neg2], bins=[\"PosEmo_Stress\",\"NegEmo_Stress\",\"PosEmo_NoStress\",\"NegEmo_NoStress\" ], rwidth=0.95, color=['red', 'blue', 'green','orange'])\n",
        "#plt.legend()\n",
        "plt.hist([pos1,neg1, pos2,neg2], bins=[0,1,2,3,4] , rwidth=0.75, color=['red', 'blue', 'green','orange'], label=['Positive emojis in stressed','Negative emojis in stressed', 'Positive emojis in non stressed', 'Negative emojis in non stressed'])\n",
        "plt.legend()"
      ],
      "execution_count": 130,
      "outputs": [
        {
          "output_type": "execute_result",
          "data": {
            "text/plain": [
              "<matplotlib.legend.Legend at 0x7f06c0d7dda0>"
            ]
          },
          "metadata": {
            "tags": []
          },
          "execution_count": 130
        },
        {
          "output_type": "display_data",
          "data": {
            "image/png": "[encoded data removed]",
            "text/plain": [
              "<Figure size 432x288 with 1 Axes>"
            ]
          },
          "metadata": {
            "tags": []
          }
        }
      ]
    },
    {
      "cell_type": "code",
      "metadata": {
        "id": "CtG__DfWiiKq",
        "colab_type": "code",
        "colab": {
          "base_uri": "https://localhost:8080/",
          "height": 287
        },
        "outputId": "d7eaa5c6-2e29-4dcd-ca96-c93831e9ba1c"
      },
      "source": [
        "#Pwords and neg words count\n",
        "\n",
        "pos1=[]\n",
        "pos2=[]\n",
        "neg1=[]\n",
        "neg2=[]\n",
        "\n",
        "for j, row in dt1.iterrows():\n",
        "  if row['result']==1:\n",
        "    pos1.append(dt1['pword'][j])\n",
        "    neg1.append(dt1['nword'][j])\n",
        "    \n",
        "    \n",
        "  elif row['result']==0:\n",
        "    pos2.append(dt1['pword'][j])\n",
        "    neg2.append(dt1['nword'][j])\n",
        "\n",
        "\n",
        "\n",
        "#plt.hist([pos1,neg1, pos2,neg2], bins=[\"PosEmo_Stress\",\"NegEmo_Stress\",\"PosEmo_NoStress\",\"NegEmo_NoStress\" ], rwidth=0.95, color=['red', 'blue', 'green','orange'])\n",
        "#plt.legend()\n",
        "plt.hist([pos1,neg1, pos2,neg2], bins=[0,1,2,3,4,5,6,7,8] , rwidth=0.75, color=['red', 'blue', 'green','orange'], label=['Positive words in stressed','Negative words in stressed', 'Positive words in non stressed', 'Negative words in non stressed'])\n",
        "plt.legend()"
      ],
      "execution_count": 137,
      "outputs": [
        {
          "output_type": "execute_result",
          "data": {
            "text/plain": [
              "<matplotlib.legend.Legend at 0x7f06c0d175f8>"
            ]
          },
          "metadata": {
            "tags": []
          },
          "execution_count": 137
        },
        {
          "output_type": "display_data",
          "data": {
            "image/png": "[encoded data removed]",
            "text/plain": [
              "<Figure size 432x288 with 1 Axes>"
            ]
          },
          "metadata": {
            "tags": []
          }
        }
      ]
    },
    {
      "cell_type": "code",
      "metadata": {
        "id": "17fqfkjekeXv",
        "colab_type": "code",
        "colab": {
          "base_uri": "https://localhost:8080/",
          "height": 773
        },
        "outputId": "683f2413-7f5c-42ce-85ec-7a84a95ef9a7"
      },
      "source": [
        "#favourite and retweet count , pronouns count   favorite_count retweets_count pnoun\n",
        "pos1=[]\n",
        "pos2=[]\n",
        "neg1=[]\n",
        "neg2=[]\n",
        "pos3=[]\n",
        "neg3=[]\n",
        "\n",
        "for j, row in dt1.iterrows():\n",
        "  if row['result']==1:\n",
        "    pos1.append(dt1['favorite_count'][j])\n",
        "    pos2.append(dt1['retweets_count'][j])\n",
        "    pos3.append(dt1['pnoun'][j])\n",
        "    \n",
        "    \n",
        "  elif row['result']==0:\n",
        "    neg1.append(dt1['favorite_count'][j])\n",
        "    neg2.append(dt1['retweets_count'][j])\n",
        "    neg3.append(dt1['pnoun'][j])\n",
        "\n",
        "\n",
        "\n",
        "\n",
        "#plt.hist([pos1,neg1, pos2,neg2], bins=[\"PosEmo_Stress\",\"NegEmo_Stress\",\"PosEmo_NoStress\",\"NegEmo_NoStress\" ], rwidth=0.95, color=['red', 'blue', 'green','orange'])\n",
        "#plt.legend()\n",
        "plt.hist([pos1,neg1], bins=[0,1,2,3,4,5,6,7,8,9] , rwidth=0.75, color=['red', 'blue'], label=['Favourite count in stress','Favourite count in non-stress' ])\n",
        "plt.legend()\n",
        "plt.show()\n",
        "\n",
        "plt.hist([pos2,neg2], bins=[0,1,2,3,4,5,6,7,8,9] , rwidth=0.75, color=['green', 'orange'], label=['retweets_count in stress','retweets_count in non-stress' ])\n",
        "plt.legend()\n",
        "plt.show()\n",
        "\n",
        "plt.hist([pos3,neg3], bins=[0,1,2,3,4,5,6,7,8,9] , rwidth=0.75, color=['red', 'green'], label=['pronoun count in stress','pronoun count in non-stress' ])\n",
        "plt.legend()\n",
        "plt.show()"
      ],
      "execution_count": 140,
      "outputs": [
        {
          "output_type": "display_data",
          "data": {
            "image/png": "[encoded data removed]",
            "text/plain": [
              "<Figure size 432x288 with 1 Axes>"
            ]
          },
          "metadata": {
            "tags": []
          }
        },
        {
          "output_type": "display_data",
          "data": {
            "image/png": "[encoded data removed]",
            "text/plain": [
              "<Figure size 432x288 with 1 Axes>"
            ]
          },
          "metadata": {
            "tags": []
          }
        },
        {
          "output_type": "display_data",
          "data": {
            "image/png": "[encoded data removed]",
            "text/plain": [
              "<Figure size 432x288 with 1 Axes>"
            ]
          },
          "metadata": {
            "tags": []
          }
        }
      ]
    },
    {
      "cell_type": "code",
      "metadata": {
        "id": "oHlVssdPr-EB",
        "colab_type": "code",
        "colab": {
          "base_uri": "https://localhost:8080/",
          "height": 773
        },
        "outputId": "4f312101-ca1c-445b-be5e-f6edcadd0045"
      },
      "source": [
        "#punctuations count  punc1= !, , punc2= ? punc3=...   \n",
        "pos1=[]\n",
        "pos2=[]\n",
        "neg1=[]\n",
        "neg2=[]\n",
        "pos3=[]\n",
        "neg3=[]\n",
        "\n",
        "for j, row in dt1.iterrows():\n",
        "  if row['result']==1:\n",
        "    pos1.append(dt1['punc1'][j])\n",
        "    pos2.append(dt1['punc2'][j])\n",
        "    pos3.append(dt1['punc3'][j])\n",
        "    \n",
        "    \n",
        "  elif row['result']==0:\n",
        "    neg1.append(dt1['punc1'][j])\n",
        "    neg2.append(dt1['punc2'][j])\n",
        "    neg3.append(dt1['punc3'][j])\n",
        "\n",
        "\n",
        "\n",
        "\n",
        "plt.hist([pos1,neg1], bins=[1,2,3,4,5,6,7,8,9] , rwidth=0.75, color=['red', 'blue'], label=[' Exc ! count in stress','Exc ! count in non-stress'])\n",
        "plt.legend()\n",
        "plt.show()\n",
        "\n",
        "plt.hist([pos2,neg2], bins=[1,2,3,4,5,6,7,8,9] , rwidth=0.75, color=['green', 'orange'], label=['ques ? count in stress','ques ? count in non-stress'])\n",
        "plt.legend()\n",
        "plt.show()\n",
        "\n",
        "plt.hist([pos3,neg3], bins=[1,2,3,4,5,6,7,8,9] , rwidth=0.75, color=['red', 'green'], label=[' dots ... count in stress','dots ... count in non-stress'])\n",
        "plt.legend()\n",
        "plt.show()"
      ],
      "execution_count": 142,
      "outputs": [
        {
          "output_type": "display_data",
          "data": {
            "image/png": "[encoded data removed]",
            "text/plain": [
              "<Figure size 432x288 with 1 Axes>"
            ]
          },
          "metadata": {
            "tags": []
          }
        },
        {
          "output_type": "display_data",
          "data": {
            "image/png": "[encoded data removed]",
            "text/plain": [
              "<Figure size 432x288 with 1 Axes>"
            ]
          },
          "metadata": {
            "tags": []
          }
        },
        {
          "output_type": "display_data",
          "data": {
            "image/png": "[encoded data removed]",
            "text/plain": [
              "<Figure size 432x288 with 1 Axes>"
            ]
          },
          "metadata": {
            "tags": []
          }
        }
      ]
    }
  ]
}