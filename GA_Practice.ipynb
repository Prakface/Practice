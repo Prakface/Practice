{
  "nbformat": 4,
  "nbformat_minor": 0,
  "metadata": {
    "colab": {
      "name": "GA_Practice.ipynb",
      "version": "0.3.2",
      "provenance": [],
      "collapsed_sections": [],
      "include_colab_link": true
    },
    "kernelspec": {
      "name": "python3",
      "display_name": "Python 3"
    }
  },
  "cells": [
    {
      "cell_type": "markdown",
      "metadata": {
        "id": "view-in-github",
        "colab_type": "text"
      },
      "source": [
        "<a href=\"https://colab.research.google.com/github/Prakface/Practice/blob/master/GA_Practice.ipynb\" target=\"_parent\"><img src=\"https://colab.research.google.com/assets/colab-badge.svg\" alt=\"Open In Colab\"/></a>"
      ]
    },
    {
      "cell_type": "code",
      "metadata": {
        "id": "-ppDlZoYkbZ6",
        "colab_type": "code",
        "colab": {
          "base_uri": "https://localhost:8080/",
          "height": 181
        },
        "outputId": "bef925d4-a9a8-430a-e90e-f50072f68349"
      },
      "source": [
        "!pip install pyeasyga"
      ],
      "execution_count": 1,
      "outputs": [
        {
          "output_type": "stream",
          "text": [
            "Collecting pyeasyga\n",
            "  Downloading https://files.pythonhosted.org/packages/3f/1b/d2834ca8e108806734a59579fe38a9fa1329f2527d622c43894c1c85a233/pyeasyga-0.3.1.tar.gz\n",
            "Requirement already satisfied: six in /usr/local/lib/python3.6/dist-packages (from pyeasyga) (1.12.0)\n",
            "Building wheels for collected packages: pyeasyga\n",
            "  Building wheel for pyeasyga (setup.py) ... \u001b[?25l\u001b[?25hdone\n",
            "  Stored in directory: /root/.cache/pip/wheels/ef/cf/ef/7aff9fcd6c1e59dc276182f29a32e7c197665dd5eb547f30e6\n",
            "Successfully built pyeasyga\n",
            "Installing collected packages: pyeasyga\n",
            "Successfully installed pyeasyga-0.3.1\n"
          ],
          "name": "stdout"
        }
      ]
    },
    {
      "cell_type": "code",
      "metadata": {
        "id": "gFBZoJovmNZp",
        "colab_type": "code",
        "colab": {
          "base_uri": "https://localhost:8080/",
          "height": 35
        },
        "outputId": "87e98afa-2ffe-4bcc-ae01-cefb5ad3f589"
      },
      "source": [
        "from pyeasyga import pyeasyga\n",
        "\n",
        "\n",
        "data = [('pear', 50), ('apple', 35), ('banana', 40)]\n",
        "\n",
        "\n",
        "\n",
        "\n",
        "\n",
        "ga = pyeasyga.GeneticAlgorithm(data)\n",
        "\n",
        "\n",
        "def fitness (individual, data):\n",
        "    fitness = 0\n",
        "    if individual.count(1) == 2:\n",
        "        for (selected, (fruit, profit)) in zip(individual, data):\n",
        "            if selected:\n",
        "                fitness += profit\n",
        "    return fitness\n",
        "  \n",
        "  \n",
        "ga.fitness_function = fitness\n",
        "\n",
        "ga.run()\n",
        "\n",
        "print(ga.best_individual())\n",
        "\n",
        "\n",
        "\n",
        "\n"
      ],
      "execution_count": 32,
      "outputs": [
        {
          "output_type": "stream",
          "text": [
            "(90, [1, 0, 1])\n"
          ],
          "name": "stdout"
        }
      ]
    },
    {
      "cell_type": "code",
      "metadata": {
        "id": "_sK9y0B6wUR6",
        "colab_type": "code",
        "colab": {
          "base_uri": "https://localhost:8080/",
          "height": 35
        },
        "outputId": "aa8b1ce1-d7cb-4ff9-b4b6-8ef10f1733cf"
      },
      "source": [
        "d2=  [('pear', 50), ('apple', 35), ('banana', 40), ('orange', 60), ('pommagranate', 25), ('mango', 70)]\n",
        "\n",
        "data=d2\n",
        "\n",
        "\n",
        "ga = pyeasyga.GeneticAlgorithm(data,\n",
        "                               population_size=10,\n",
        "                               generations=50,\n",
        "                               crossover_probability=0.7,\n",
        "                               mutation_probability=0.05,\n",
        "                               elitism=True,\n",
        "                               maximise_fitness=True)\n",
        "\n",
        "\n",
        "ga.fitness_function = fitness\n",
        "\n",
        "ga.run()\n",
        "\n",
        "print(ga.best_individual())"
      ],
      "execution_count": 71,
      "outputs": [
        {
          "output_type": "stream",
          "text": [
            "(120, [1, 0, 0, 0, 0, 1])\n"
          ],
          "name": "stdout"
        }
      ]
    },
    {
      "cell_type": "code",
      "metadata": {
        "id": "e33f1zlCxboP",
        "colab_type": "code",
        "colab": {}
      },
      "source": [
        "from pyeasyga import pyeasyga\n",
        "\n",
        "\n",
        "#data = [('pear', 50), ('apple', 35), ('banana', 40)]\n",
        "\n",
        "\n",
        "data=[(1,4),(2,6),(3,5),(4,9),(7,12),(13, 25),(18,35)]\n",
        "\n",
        "def create_individual(data):\n",
        "  return [random.randint(0, 1) for _ in xrange(2*len(data))]\n",
        "\n",
        "\n",
        "ga = pyeasyga.GeneticAlgorithm(data)\n",
        "\n",
        "\n",
        "def fitness (individual, data):\n",
        "    fitness = 0\n",
        "    if individual.count(1) == 2:\n",
        "        for (selected, (fruit, profit)) in zip(individual, data):\n",
        "            if selected:\n",
        "                fitness += profit\n",
        "    return fitness\n",
        "  \n",
        "  \n",
        "ga.fitness_function = fitness\n",
        "\n",
        "ga.run()\n",
        "\n",
        "print(ga.best_individual())\n",
        "\n",
        "\n",
        "\n",
        "\n"
      ],
      "execution_count": 0,
      "outputs": []
    }
  ]
}