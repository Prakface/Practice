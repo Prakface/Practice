{
  "nbformat": 4,
  "nbformat_minor": 0,
  "metadata": {
    "colab": {
      "name": "tf_practice_main2.ipynb",
      "version": "0.3.2",
      "provenance": [],
      "collapsed_sections": [],
      "include_colab_link": true
    },
    "kernelspec": {
      "name": "python3",
      "display_name": "Python 3"
    }
  },
  "cells": [
    {
      "cell_type": "markdown",
      "metadata": {
        "id": "view-in-github",
        "colab_type": "text"
      },
      "source": [
        "<a href=\"https://colab.research.google.com/github/Prakface/Practice/blob/master/tf_practice_main2.ipynb\" target=\"_parent\"><img src=\"https://colab.research.google.com/assets/colab-badge.svg\" alt=\"Open In Colab\"/></a>"
      ]
    },
    {
      "cell_type": "code",
      "metadata": {
        "id": "kAL2ExxmPW-X",
        "colab_type": "code",
        "outputId": "53981d3d-a1aa-4b56-aa36-c7ea5791669d",
        "colab": {
          "base_uri": "https://localhost:8080/",
          "height": 178
        }
      },
      "source": [
        "import pandas as pd\n",
        "\n",
        "url='https://raw.githubusercontent.com/Prakface/Practice/master/initialFeatures.csv'\n",
        "\n",
        "data=pd.read_csv(url)\n",
        "\n",
        "df=pd.DataFrame(data)\n",
        "\n",
        "data_modified= data.dropna()\n",
        "\n",
        "data_modified.to_csv(\"modifiedData.csv\", index=False)\n",
        "\n",
        "df2=pd.read_csv(\"modifiedData.csv\")\n",
        "\n",
        "print(df2[0:6])"
      ],
      "execution_count": 19,
      "outputs": [
        {
          "output_type": "stream",
          "text": [
            "   image  url  question  original  ...  retweets_count  hour     level  result\n",
            "0    0.0  1.0       0.0       1.0  ...             0.0  11.0 -0.040000     0.0\n",
            "1    0.0  1.0       0.0       1.0  ...             0.0  10.0 -0.047619     0.0\n",
            "2    0.0  1.0       0.0       1.0  ...             0.0  10.0  0.000000     0.0\n",
            "3    1.0  0.0       0.0       1.0  ...             0.0  10.0  0.000000     0.0\n",
            "4    0.0  1.0       0.0       1.0  ...             0.0  10.0 -0.040000     0.0\n",
            "5    0.0  0.0       0.0       0.0  ...            54.0  10.0  0.000000     0.0\n",
            "\n",
            "[6 rows x 29 columns]\n"
          ],
          "name": "stdout"
        }
      ]
    },
    {
      "cell_type": "code",
      "metadata": {
        "id": "1TuSRvUePvdl",
        "colab_type": "code",
        "outputId": "971dbfdd-8771-4e9d-9d4c-a6e7c3ee54cc",
        "colab": {
          "base_uri": "https://localhost:8080/",
          "height": 35
        }
      },
      "source": [
        "import numpy as np\n",
        "import matplotlib.pyplot as plt\n",
        "import pandas as pd\n",
        "import tensorflow as tf\n",
        "from sklearn.preprocessing import StandardScaler\n",
        "\n",
        "dataset=df2\n",
        "\n",
        "X = dataset.iloc[:, 0:28].values #all coulumns excpet the last 29th column\n",
        "y = dataset.iloc[:,28 ].values  # the last 29th column (0 to 28) , hence last column is 28\n",
        "\n",
        "from sklearn.model_selection import train_test_split\n",
        "X_train, X_test, y_train, y_test = train_test_split(X, y, test_size = 0.30, random_state = 0)\n",
        "\n",
        "\n",
        "print(len(X), len(y), len(X_train), len(y_train))\n",
        "\n",
        "\n",
        "\n",
        "\n",
        "sc = StandardScaler()\n",
        "X_train = sc.fit_transform(X_train)\n",
        "X_test = sc.transform(X_test)\n",
        "\n",
        "\n",
        "\n",
        "A = tf.Variable(tf.random_normal(shape=[28, 1]))  #weight vector (column)\n",
        "b = tf.Variable(tf.random_normal(shape=[1, 1]))   # bias value\n",
        "init = tf.global_variables_initializer()\n",
        "sess = tf.Session()\n",
        "sess.run(init)\n",
        "\n",
        "data = tf.placeholder(dtype=tf.float32, shape=[None, 28])  #one row or group of rows with 28 columns, data tuples\n",
        "target = tf.placeholder(dtype=tf.float32, shape=[None, 1]) # one row or group of rows with 28 columns, data tuples\n",
        "\n",
        "mod = tf.matmul(data, A) + b\n",
        "\n",
        "\n",
        "\n",
        "for i in range(len(X_train)):\n",
        "    loss = ((y_train[i] * tf.log(tf.sigmoid(tf.transpose(A)*X_train[i]))) + ((1 - y_train[i]) * tf.log(1 - tf.sigmoid(tf.transpose(A)*X_train[i]))))         \n",
        "                        \n",
        "learning_rate = .005\n",
        "batch_size = 30\n",
        "iter_num = 1500\n",
        "\n",
        "# Define the optimizer\n",
        "opt = tf.train.GradientDescentOptimizer(learning_rate)\n",
        "\n",
        "# Define the goal\n",
        "goal = opt.minimize(loss)\n",
        "\n",
        "# Define the accuracy\n",
        "# The default threshold is 0.5, rounded off directly\n",
        "prediction = tf.round(tf.sigmoid(mod))\n",
        "# Bool into float32 type\n",
        "correct = tf.cast(tf.equal(prediction, target), dtype=tf.float32)\n",
        "# Average\n",
        "accuracy = tf.reduce_mean(correct)\n",
        "# End of the definition of the model framework\n",
        "\n",
        "# Start training model\n",
        "# Define the variable that stores the result\n",
        "loss_trace = []\n",
        "train_acc = []\n",
        "test_acc = []\n"
      ],
      "execution_count": 20,
      "outputs": [
        {
          "output_type": "stream",
          "text": [
            "5875 5875 4112 4112\n"
          ],
          "name": "stdout"
        }
      ]
    },
    {
      "cell_type": "code",
      "metadata": {
        "id": "Y54LeqkxXq-E",
        "colab_type": "code",
        "colab": {
          "base_uri": "https://localhost:8080/",
          "height": 464
        },
        "outputId": "a5fc0d6b-52d4-4bd0-d71b-57a095d86b7b"
      },
      "source": [
        "\n",
        "\n",
        "\n",
        "# training model\n",
        "for epoch in range(iter_num):\n",
        "    # Generate random batch index\n",
        "    #print(len(X_train))\n",
        "    batch_index = np.random.choice(len(X_train), size=batch_size)\n",
        "    #print(batch_index)\n",
        "    batch_train_X = X_train[batch_index]\n",
        "    batch_train_y = np.matrix(y_train[batch_index]).T\n",
        "    #batch_train_y = y_train[batch_index]\n",
        "    sess.run(goal, feed_dict={data: batch_train_X, target: batch_train_y})\n",
        "    temp_loss = sess.run(loss, feed_dict={data: batch_train_X, target: batch_train_y})\n",
        "    # convert into a matrix, and the shape of the placeholder to correspond\n",
        "    temp_train_acc = sess.run(accuracy, feed_dict={data: X_train, target: np.matrix(y_train).T})\n",
        "    temp_test_acc = sess.run(accuracy, feed_dict={data: X_test, target: np.matrix(y_test).T})\n",
        "    \n",
        "    \n",
        "    \n",
        "    # recode the result\n",
        "    loss_trace.append(temp_loss)\n",
        "    train_acc.append(temp_train_acc)\n",
        "    test_acc.append(temp_test_acc)\n",
        "    # output\n",
        "    if (epoch + 1) % 300 == 0:\n",
        "        print(epoch + 1, temp_loss, temp_train_acc, temp_test_acc)\n",
        "\n"
      ],
      "execution_count": 21,
      "outputs": [
        {
          "output_type": "stream",
          "text": [
            "300 [[-0.88145435 -0.44036138 -0.6773145  -0.2263241  -8.1669     -0.70681995\n",
            "  -0.7734702  -0.70738447 -0.67909694 -0.69671214 -0.73340183 -1.133754\n",
            "  -0.6931472  -0.3774704  -0.68073213 -0.675113   -0.6557771  -0.6801495\n",
            "  -0.725783   -0.8985921  -0.81128746 -0.7210775  -2.895856   -0.647874\n",
            "  -0.68592507 -0.6454073  -2.1443565  -1.1262267 ]] 0.5440175 0.5331821\n",
            "600 [[-0.88964    -0.9584296  -0.7040509  -0.2614146          nan -0.71558255\n",
            "  -0.7917388  -0.72933704 -0.68254    -0.69969875 -0.7465177  -1.2561598\n",
            "  -0.6931472  -0.39489523 -0.75373554 -0.6770755  -0.6576611  -0.681481\n",
            "  -0.75299233 -0.9204473  -0.8329257  -0.7359894  -4.476195   -0.8514705\n",
            "  -1.4126418  -0.64734924 -3.0242233  -1.3564264 ]] 0.0 0.0\n",
            "900 [[-0.89792025 -2.3182142  -0.73226327 -0.30726036         nan -0.7244946\n",
            "  -0.8105775  -0.7522254  -0.68600744 -0.7027031  -0.759951   -1.3917806\n",
            "  -0.6931472  -0.41367108 -0.83761686 -0.67904615 -0.6595527  -0.68281615\n",
            "  -0.78158665 -0.94295365 -0.8553088  -0.75132185 -6.13041    -1.142904\n",
            "  -2.7829466  -0.64929974 -3.9969146  -1.6303834 ]] 0.0 0.0\n",
            "1200 [[-0.9062958  -4.384319   -0.762031   -0.36875397         nan -0.7335584\n",
            "  -0.83000207 -0.77608746 -0.6894994  -0.7057253  -0.77370924 -1.5407735\n",
            "  -0.6931472  -0.43393165 -0.93379676 -0.6810249  -0.661452   -0.68415487\n",
            "  -0.81163085 -0.9661254  -0.8784585  -0.7670859  -7.79974    -1.5431696\n",
            "  -4.5171275  -0.6512584  -5.009421   -1.9466319 ]] 0.0 0.0\n",
            "1500 [[-0.9147674  -6.615863   -0.79343474 -0.45358413         nan -0.74277675\n",
            "  -0.85002816 -0.8009617  -0.6930162  -0.7087655  -0.78779936 -1.7029489\n",
            "  -0.6931472  -0.45582467 -1.043651   -0.6830116  -0.66335905 -0.6854973\n",
            "  -0.8431905  -0.9899765  -0.9023956  -0.78329295 -9.471585   -2.0552187\n",
            "  -6.3406787  -0.6532255  -6.037149   -2.3003147 ]] 0.0 0.0\n"
          ],
          "name": "stdout"
        }
      ]
    },
    {
      "cell_type": "code",
      "metadata": {
        "id": "5z_Ay5DsX63c",
        "colab_type": "code",
        "colab": {
          "base_uri": "https://localhost:8080/",
          "height": 295
        },
        "outputId": "fd66ae96-b493-4f69-b747-79104d2e1879"
      },
      "source": [
        "plt.plot(train_acc, 'b-', label='train accuracy')\n",
        "plt.plot(test_acc, 'k-', label='test accuracy')\n",
        "plt.xlabel('epoch')\n",
        "plt.ylabel('accuracy')\n",
        "plt.title('Train and Test Accuracy')\n",
        "plt.legend(loc='best')\n",
        "plt.show()"
      ],
      "execution_count": 22,
      "outputs": [
        {
          "output_type": "display_data",
          "data": {
            "image/png": "[encoded data removed]",
            "text/plain": [
              "<Figure size 432x288 with 1 Axes>"
            ]
          },
          "metadata": {
            "tags": []
          }
        }
      ]
    },
    {
      "cell_type": "code",
      "metadata": {
        "id": "yyC2geSkc-dY",
        "colab_type": "code",
        "colab": {
          "base_uri": "https://localhost:8080/",
          "height": 35
        },
        "outputId": "8e1c14b0-1d83-457c-a1d5-c8673380865d"
      },
      "source": [
        "\n",
        "\n",
        "# The above program with half data\n",
        "\n",
        "import numpy as np\n",
        "import matplotlib.pyplot as plt\n",
        "import pandas as pd\n",
        "import tensorflow as tf\n",
        "from sklearn.preprocessing import StandardScaler\n",
        "\n",
        "\n",
        "\n",
        "df_t=df2.iloc[lambda x: x.index % 2 != 0]\n",
        "dataset=df_t\n",
        "\n",
        "X = dataset.iloc[:, 0:28].values #all coulumns excpet the last 29th column\n",
        "y = dataset.iloc[:,28 ].values  # the last 29th column (0 to 28) , hence last column is 28\n",
        "\n",
        "from sklearn.model_selection import train_test_split\n",
        "X_train, X_test, y_train, y_test = train_test_split(X, y, test_size = 0.30, random_state = 0)\n",
        "\n",
        "\n",
        "print(len(X), len(y), len(X_train), len(y_train))\n",
        "\n",
        "\n",
        "\n",
        "\n",
        "sc = StandardScaler()\n",
        "X_train = sc.fit_transform(X_train)\n",
        "X_test = sc.transform(X_test)\n",
        "\n",
        "\n",
        "\n",
        "A = tf.Variable(tf.random_normal(shape=[28, 1]))  #weight vector (column)\n",
        "b = tf.Variable(tf.random_normal(shape=[1, 1]))   # bias value\n",
        "init = tf.global_variables_initializer()\n",
        "sess = tf.Session()\n",
        "sess.run(init)\n",
        "\n",
        "data = tf.placeholder(dtype=tf.float32, shape=[None, 28])  #one row or group of rows with 28 columns, data tuples\n",
        "target = tf.placeholder(dtype=tf.float32, shape=[None, 1]) # one row or group of rows with 28 columns, data tuples\n",
        "\n",
        "mod = tf.matmul(data, A) + b\n",
        "\n",
        "\n",
        "\n",
        "for i in range(len(X_train)):\n",
        "    loss = ((y_train[i] * tf.log(tf.sigmoid(tf.transpose(A)*X_train[i]))) + ((1 - y_train[i]) * tf.log(1 - tf.sigmoid(tf.transpose(A)*X_train[i]))))         \n",
        "                        \n",
        "learning_rate = .005\n",
        "batch_size = 30\n",
        "iter_num = 1500\n",
        "\n",
        "# Define the optimizer\n",
        "opt = tf.train.GradientDescentOptimizer(learning_rate)\n",
        "\n",
        "# Define the goal\n",
        "goal = opt.minimize(loss)\n",
        "\n",
        "# Define the accuracy\n",
        "# The default threshold is 0.5, rounded off directly\n",
        "prediction = tf.round(tf.sigmoid(mod))\n",
        "# Bool into float32 type\n",
        "correct = tf.cast(tf.equal(prediction, target), dtype=tf.float32)\n",
        "# Average\n",
        "accuracy = tf.reduce_mean(correct)\n",
        "# End of the definition of the model framework\n",
        "\n",
        "# Start training model\n",
        "# Define the variable that stores the result\n",
        "loss_trace = []\n",
        "train_acc = []\n",
        "test_acc = []\n",
        "\n"
      ],
      "execution_count": 23,
      "outputs": [
        {
          "output_type": "stream",
          "text": [
            "2937 2937 2055 2055\n"
          ],
          "name": "stdout"
        }
      ]
    },
    {
      "cell_type": "code",
      "metadata": {
        "id": "qiDbLlV8gLF1",
        "colab_type": "code",
        "colab": {
          "base_uri": "https://localhost:8080/",
          "height": 517
        },
        "outputId": "2e067488-b36f-47cb-8910-552c75a92f00"
      },
      "source": [
        "\n",
        "\n",
        "\n",
        "# training model\n",
        "for epoch in range(iter_num):\n",
        "    # Generate random batch index\n",
        "    #print(len(X_train))\n",
        "    batch_index = np.random.choice(len(X_train), size=batch_size)\n",
        "    #print(batch_index)\n",
        "    batch_train_X = X_train[batch_index]\n",
        "    batch_train_y = np.matrix(y_train[batch_index]).T\n",
        "    #batch_train_y = y_train[batch_index]\n",
        "    sess.run(goal, feed_dict={data: batch_train_X, target: batch_train_y})\n",
        "    temp_loss = sess.run(loss, feed_dict={data: batch_train_X, target: batch_train_y})\n",
        "    # convert into a matrix, and the shape of the placeholder to correspond\n",
        "    temp_train_acc = sess.run(accuracy, feed_dict={data: X_train, target: np.matrix(y_train).T})\n",
        "    temp_test_acc = sess.run(accuracy, feed_dict={data: X_test, target: np.matrix(y_test).T})\n",
        "    \n",
        "    \n",
        "    \n",
        "    # recode the result\n",
        "    loss_trace.append(temp_loss)\n",
        "    train_acc.append(temp_train_acc)\n",
        "    test_acc.append(temp_test_acc)\n",
        "    # output\n",
        "    if (epoch + 1) % 300 == 0:\n",
        "        print(epoch + 1, temp_loss, temp_train_acc, temp_test_acc)\n",
        "\n"
      ],
      "execution_count": 24,
      "outputs": [
        {
          "output_type": "stream",
          "text": [
            "300 [[-8.2031596e-01 -8.2994914e-01 -6.6178417e-01 -1.7293632e+00\n",
            "  -5.9357762e-01 -8.3972737e-03 -1.0579920e+01 -7.0701432e+00\n",
            "  -6.5281445e-01 -7.4694306e-01 -6.9942480e-01 -8.5168600e-01\n",
            "  -6.9314718e-01 -6.5180600e-01 -7.0181602e-01 -1.3939183e+00\n",
            "  -5.3054035e-01 -6.8402815e-01 -7.1452004e-01 -6.0938334e-01\n",
            "  -6.5877885e-01 -5.4586989e-01 -9.8687470e-01 -1.5191978e-01\n",
            "  -7.2507375e-01 -7.2279418e-01 -2.3191655e+00 -5.8758003e-01]] 0.46812654 0.47845805\n",
            "600 [[ -0.82707787  -1.9624956   -0.6884044   -2.250706    -0.6063329\n",
            "   -0.0143367           nan -13.139025    -0.6565871   -0.7509495\n",
            "   -0.712396    -0.9277114   -0.6931472   -0.6914488   -0.7749218\n",
            "   -2.4777327   -0.91435975  -0.6851545   -0.74397033  -0.6199694\n",
            "   -0.6762498   -0.554603    -1.6689596   -0.24524617  -0.72622997\n",
            "   -0.7248374   -3.54413     -0.6755278 ]] 0.0 0.0\n",
            "900 [[-0.83391154 -3.8554282  -0.71653634 -2.8464217  -0.619491   -0.04730612\n",
            "          nan         nan -0.6603906  -0.75498486 -0.7256995  -1.0121291\n",
            "  -0.6931472  -0.7345169  -0.8584546  -3.8611786  -1.685377   -0.68628347\n",
            "  -0.7750798  -0.6308231  -0.69437605 -0.5635468  -2.6752908  -0.5189957\n",
            "  -0.72738856 -0.7268884  -4.8789883  -0.7830383 ]] 0.0 0.0\n",
            "1200 [[-0.84081763 -5.982671   -0.74626523 -3.4907072  -0.6330653          nan\n",
            "          nan         nan -0.6642253  -0.75904924 -0.7393434  -1.1055483\n",
            "  -0.6931472  -0.7812997  -0.9536801  -5.3480654  -2.8887408  -0.687415\n",
            "  -0.80793506 -0.6419515  -0.7131823  -0.57270706 -3.874291   -1.6298018\n",
            "  -0.7285498  -0.72894734 -6.2462416  -0.91425407]] 0.0 0.0\n",
            "1500 [[-0.847797   -8.143657   -0.7776779  -4.1631417  -0.6470701          nan\n",
            "          nan         nan -0.6680915  -0.763143   -0.75333613 -1.2084807\n",
            "  -0.6931472  -0.83209425 -1.0618052  -6.8607306  -4.3194737  -0.68854916\n",
            "  -0.8426235  -0.65336204 -0.7326938  -0.58208966 -5.146029   -4.2229943\n",
            "  -0.72971356 -0.73101413 -7.6220193  -1.0733519 ]] 0.0 0.0\n"
          ],
          "name": "stdout"
        }
      ]
    },
    {
      "cell_type": "code",
      "metadata": {
        "id": "bbY-T8aNgSnN",
        "colab_type": "code",
        "colab": {
          "base_uri": "https://localhost:8080/",
          "height": 295
        },
        "outputId": "57714545-3736-4565-94fd-e8fcfca3093d"
      },
      "source": [
        "plt.plot(train_acc, 'b-', label='train accuracy')\n",
        "plt.plot(test_acc, 'k-', label='test accuracy')\n",
        "plt.xlabel('epoch')\n",
        "plt.ylabel('accuracy')\n",
        "plt.title('Train and Test Accuracy')\n",
        "plt.legend(loc='best')\n",
        "plt.show()"
      ],
      "execution_count": 25,
      "outputs": [
        {
          "output_type": "display_data",
          "data": {
            "image/png": "[encoded data removed]",
            "text/plain": [
              "<Figure size 432x288 with 1 Axes>"
            ]
          },
          "metadata": {
            "tags": []
          }
        }
      ]
    }
  ]
}