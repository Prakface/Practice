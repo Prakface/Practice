{
  "nbformat": 4,
  "nbformat_minor": 0,
  "metadata": {
    "colab": {
      "name": "tf_practice_main.ipynb",
      "version": "0.3.2",
      "provenance": [],
      "collapsed_sections": [],
      "include_colab_link": true
    },
    "kernelspec": {
      "name": "python3",
      "display_name": "Python 3"
    }
  },
  "cells": [
    {
      "cell_type": "markdown",
      "metadata": {
        "id": "view-in-github",
        "colab_type": "text"
      },
      "source": [
        "<a href=\"https://colab.research.google.com/github/Prakface/Practice/blob/master/tf_practice_main.ipynb\" target=\"_parent\"><img src=\"https://colab.research.google.com/assets/colab-badge.svg\" alt=\"Open In Colab\"/></a>"
      ]
    },
    {
      "cell_type": "code",
      "metadata": {
        "id": "1WlkgU--EfVK",
        "colab_type": "code",
        "outputId": "8d1a9b53-4741-4ecf-a9d3-9b4a921674ae",
        "colab": {
          "base_uri": "https://localhost:8080/",
          "height": 1000
        }
      },
      "source": [
        "import pandas as pd\n",
        "\n",
        "url='https://raw.githubusercontent.com/Prakface/Practice/master/initialFeatures.csv'\n",
        "\n",
        "data=pd.read_csv(url)\n",
        "\n",
        "df=pd.DataFrame(data)\n",
        "\n",
        "data_modified= data.dropna()\n",
        "\n",
        "data_modified.to_csv(\"modifiedData.csv\", index=False)\n",
        "\n",
        "df2=pd.read_csv(\"modifiedData.csv\")\n",
        "\n",
        "print(df2[0:6])\n",
        "\n",
        "print(len(df2.iloc[0,:]))\n",
        "print(df2.iloc[0:5,0:29 ])\n",
        "\n",
        "print(df2.iloc[0:5,28])\n",
        "\n",
        "\n",
        "print(df2.iloc[2500:3200,28])\n",
        "\n",
        "df3=df2.iloc[2500:3200,28]\n",
        "\n",
        "count1=0\n",
        "for i in range(len(df3)):\n",
        "  if df3.iloc[i]==1:\n",
        "    count1 = count1 +1\n",
        "    \n",
        "\n",
        "print(count1)\n",
        "    "
      ],
      "execution_count": 30,
      "outputs": [
        {
          "output_type": "stream",
          "text": [
            "   image  url  question  original  ...  retweets_count  hour     level  result\n",
            "0    0.0  1.0       0.0       1.0  ...             0.0  11.0 -0.040000     0.0\n",
            "1    0.0  1.0       0.0       1.0  ...             0.0  10.0 -0.047619     0.0\n",
            "2    0.0  1.0       0.0       1.0  ...             0.0  10.0  0.000000     0.0\n",
            "3    1.0  0.0       0.0       1.0  ...             0.0  10.0  0.000000     0.0\n",
            "4    0.0  1.0       0.0       1.0  ...             0.0  10.0 -0.040000     0.0\n",
            "5    0.0  0.0       0.0       0.0  ...            54.0  10.0  0.000000     0.0\n",
            "\n",
            "[6 rows x 29 columns]\n",
            "29\n",
            "   image  url  question  original  ...  retweets_count  hour     level  result\n",
            "0    0.0  1.0       0.0       1.0  ...             0.0  11.0 -0.040000     0.0\n",
            "1    0.0  1.0       0.0       1.0  ...             0.0  10.0 -0.047619     0.0\n",
            "2    0.0  1.0       0.0       1.0  ...             0.0  10.0  0.000000     0.0\n",
            "3    1.0  0.0       0.0       1.0  ...             0.0  10.0  0.000000     0.0\n",
            "4    0.0  1.0       0.0       1.0  ...             0.0  10.0 -0.040000     0.0\n",
            "\n",
            "[5 rows x 29 columns]\n",
            "0    0.0\n",
            "1    0.0\n",
            "2    0.0\n",
            "3    0.0\n",
            "4    0.0\n",
            "Name: result, dtype: float64\n",
            "2500    0.0\n",
            "2501    0.0\n",
            "2502    0.0\n",
            "2503    0.0\n",
            "2504    0.0\n",
            "2505    0.0\n",
            "2506    0.0\n",
            "2507    0.0\n",
            "2508    0.0\n",
            "2509    0.0\n",
            "2510    0.0\n",
            "2511    0.0\n",
            "2512    0.0\n",
            "2513    0.0\n",
            "2514    0.0\n",
            "2515    0.0\n",
            "2516    0.0\n",
            "2517    0.0\n",
            "2518    0.0\n",
            "2519    0.0\n",
            "2520    0.0\n",
            "2521    0.0\n",
            "2522    0.0\n",
            "2523    0.0\n",
            "2524    0.0\n",
            "2525    0.0\n",
            "2526    0.0\n",
            "2527    0.0\n",
            "2528    0.0\n",
            "2529    0.0\n",
            "       ... \n",
            "3170    1.0\n",
            "3171    1.0\n",
            "3172    1.0\n",
            "3173    1.0\n",
            "3174    1.0\n",
            "3175    1.0\n",
            "3176    1.0\n",
            "3177    1.0\n",
            "3178    1.0\n",
            "3179    1.0\n",
            "3180    1.0\n",
            "3181    1.0\n",
            "3182    1.0\n",
            "3183    1.0\n",
            "3184    1.0\n",
            "3185    1.0\n",
            "3186    1.0\n",
            "3187    1.0\n",
            "3188    1.0\n",
            "3189    1.0\n",
            "3190    1.0\n",
            "3191    1.0\n",
            "3192    1.0\n",
            "3193    1.0\n",
            "3194    1.0\n",
            "3195    1.0\n",
            "3196    1.0\n",
            "3197    1.0\n",
            "3198    1.0\n",
            "3199    1.0\n",
            "Name: result, Length: 700, dtype: float64\n",
            "345\n"
          ],
          "name": "stdout"
        }
      ]
    },
    {
      "cell_type": "code",
      "metadata": {
        "id": "JmI7azpOWkIf",
        "colab_type": "code",
        "outputId": "8f21b06d-e18b-4392-f9f3-9ef34a6dcbbb",
        "colab": {
          "base_uri": "https://localhost:8080/",
          "height": 71
        }
      },
      "source": [
        "count1=0\n",
        "\n",
        "\n",
        "#print(df3.iloc[300:400])\n",
        "\n",
        "print(df3.iloc[300])     \n",
        "  \n",
        "  \n",
        "print(len(df3))\n",
        "\n",
        "for i in range(len(df3)):\n",
        "  if df3.iloc[i]==1:\n",
        "    count1 = count1 +1  \n",
        "\n",
        "print(count1)\n",
        "    "
      ],
      "execution_count": 31,
      "outputs": [
        {
          "output_type": "stream",
          "text": [
            "0.0\n",
            "700\n",
            "345\n"
          ],
          "name": "stdout"
        }
      ]
    },
    {
      "cell_type": "code",
      "metadata": {
        "id": "mDkuI_6dJf0p",
        "colab_type": "code",
        "outputId": "86d29bdc-7d76-4ea6-94f7-b09d04bd37f0",
        "colab": {
          "base_uri": "https://localhost:8080/",
          "height": 53
        }
      },
      "source": [
        "import numpy as np\n",
        "import matplotlib.pyplot as plt\n",
        "import pandas as pd\n",
        "import tensorflow as tf\n",
        "\n",
        "# Importing the dataset\n",
        "#dataset = pd.read_csv('Social_Network_Ads.csv')\n",
        "dataset=df2\n",
        "\n",
        "\n",
        "df_t=dataset.iloc[lambda x: x.index % 2 != 0]\n",
        "\n",
        "au_df_t=dataset.iloc[lambda k: k.index % 2 == 0]\n",
        "\n",
        "#X = dataset.iloc[:, 0:29].values #all coulumns excpet the last 29th column\n",
        "#y = dataset.iloc[:,28 ].values  # the last 29th column (0 to 28) , hence last column is 28\n",
        "\n",
        "X = df_t.iloc[:, 0:28].values #all coulumns excpet the last 29th column\n",
        "y = df_t.iloc[:,28 ].values  # the last 29th column (0 to 28) , hence last column is 28\n",
        "\n",
        "from sklearn.model_selection import train_test_split\n",
        "X_train, X_test, y_train, y_test = train_test_split(X, y, test_size = 0.30, random_state = 0)\n",
        "\n",
        "\n",
        "au_X = au_df_t.iloc[:, 0:28].values #all coulumns excpet the last 29th column\n",
        "au_y = au_df_t.iloc[:,28].values  # the last 29th column (0 to 28) , hence last column is 28\n",
        "\n",
        "from sklearn.model_selection import train_test_split\n",
        "au_X_train, au_X_test, au_y_train, au_y_test = train_test_split(au_X, au_y, test_size = 0.30, random_state = 0)\n",
        "\n",
        "\n",
        "\n",
        "\n",
        "print(len(X), len(y), len(au_X),len(au_y))\n",
        "\n",
        "\n",
        "print(len(X_train), len(y_train), len(au_X_train),len(au_y_train))"
      ],
      "execution_count": 32,
      "outputs": [
        {
          "output_type": "stream",
          "text": [
            "2937 2937 2938 2938\n",
            "2055 2055 2056 2056\n"
          ],
          "name": "stdout"
        }
      ]
    },
    {
      "cell_type": "code",
      "metadata": {
        "id": "LNuAOvEFrclk",
        "colab_type": "code",
        "colab": {}
      },
      "source": [
        "from sklearn.preprocessing import StandardScaler\n",
        "\n",
        "\n",
        "X_t1=pd.DataFrame(X_train)\n",
        "X_t2=pd.DataFrame(X_test)\n",
        "\n",
        "y_t1=pd.DataFrame(y_train)\n",
        "y_t2=pd.DataFrame(y_test)\n",
        "\n",
        "\n",
        "au_X_t1=pd.DataFrame(au_X_train)\n",
        "au_X_t2=pd.DataFrame(au_X_test)\n",
        "\n",
        "au_y_t1=pd.DataFrame(au_y_train)\n",
        "au_y_t2=pd.DataFrame(au_y_test)\n",
        "\n",
        "\n",
        "sc = StandardScaler()\n",
        "X_train = sc.fit_transform(X_train)\n",
        "X_test = sc.transform(X_test)\n",
        "au_X_train = sc.transform(au_X_train)\n",
        "au_X_test = sc.transform(au_X_test)\n",
        "\n",
        "\n",
        "sc = StandardScaler()\n",
        "X_train = sc.fit_transform(X_t1)\n",
        "X_test = sc.transform(X_t2)\n",
        "au_X_train = sc.transform(au_X_t1)\n",
        "au_X_test = sc.transform(au_X_t2)\n"
      ],
      "execution_count": 0,
      "outputs": []
    },
    {
      "cell_type": "code",
      "metadata": {
        "id": "z5MejLgV7_c0",
        "colab_type": "code",
        "colab": {
          "base_uri": "https://localhost:8080/",
          "height": 35
        },
        "outputId": "64cda073-3b53-4280-d1f2-ac38cbe799f4"
      },
      "source": [
        "len(X_train)\n",
        "\n",
        "type(X_t1)"
      ],
      "execution_count": 36,
      "outputs": [
        {
          "output_type": "execute_result",
          "data": {
            "text/plain": [
              "pandas.core.frame.DataFrame"
            ]
          },
          "metadata": {
            "tags": []
          },
          "execution_count": 36
        }
      ]
    },
    {
      "cell_type": "code",
      "metadata": {
        "id": "DhhhkTG8NC84",
        "colab_type": "code",
        "colab": {}
      },
      "source": [
        "#original of the above\n",
        "\n",
        "from sklearn.preprocessing import StandardScaler\n",
        "\n",
        "#au_X_train = X_train[140:280, :]\n",
        "#au_X_test = X_test[0:60, :]\n",
        "\n",
        "\n",
        "X_t1=pd.DataFrame(X_train)\n",
        "X_t2=pd.DataFrame(X_test)\n",
        "\n",
        "y_t1=pd.DataFrame(y_train)\n",
        "y_t2=pd.DataFrame(y_test)\n",
        "\n",
        "au_X_train = X_t1[lambda x: x.index % 2 == 0]\n",
        "au_X_test = X_t2[lambda x: x.index % 2 == 0]\n",
        "\n",
        "au_y_train = y_t1[lambda x: x.index % 2 == 0]\n",
        "au_y_test = y_t2[lambda x: x.index % 2 == 0]\n",
        "\n",
        "#X_test = X_test[60:120, :]\n",
        "#y_test = y_test[60:120]\n",
        "#y_test1 = y_test[0:60]\n",
        "\n",
        "#X_train = X_train[0:140, :]\n",
        "#y_train1 = y_train[0:140]\n",
        "\n",
        "\n",
        "sc = StandardScaler()\n",
        "X_train = sc.fit_transform(X_train)\n",
        "X_test = sc.transform(X_test)\n",
        "au_X_train = sc.transform(au_X_train)\n",
        "au_X_test = sc.transform(au_X_test)\n"
      ],
      "execution_count": 0,
      "outputs": []
    },
    {
      "cell_type": "code",
      "metadata": {
        "id": "SJ8xxOKWr24m",
        "colab_type": "code",
        "outputId": "5bd0a587-1025-4706-ba37-feea1ce4fb39",
        "colab": {
          "base_uri": "https://localhost:8080/",
          "height": 35
        }
      },
      "source": [
        "X_t1.shape\n",
        "\n",
        "len(X_t1)"
      ],
      "execution_count": 29,
      "outputs": [
        {
          "output_type": "execute_result",
          "data": {
            "text/plain": [
              "2055"
            ]
          },
          "metadata": {
            "tags": []
          },
          "execution_count": 29
        }
      ]
    },
    {
      "cell_type": "code",
      "metadata": {
        "id": "bLezptRLryoh",
        "colab_type": "code",
        "colab": {}
      },
      "source": [
        "A = tf.Variable(tf.random_normal(shape=[28, 1]))\n",
        "b = tf.Variable(tf.random_normal(shape=[1, 1]))\n",
        "init = tf.global_variables_initializer()\n",
        "sess = tf.Session()\n",
        "sess.run(init)\n",
        "\n",
        "data = tf.placeholder(dtype=tf.float32, shape=[None, 28])\n",
        "target = tf.placeholder(dtype=tf.float32, shape=[None, 1])\n",
        "\n",
        "mod = tf.matmul(data, A) + b\n",
        "\n",
        "for i in range(len(X_t1)):\n",
        "    loss = ((y_train[i] * tf.log(tf.sigmoid(tf.transpose(A)*X_train[i]))) + ((1 - y_train[i]) * tf.log(1 - tf.sigmoid(tf.transpose(A)*X_train[i])))\n",
        "            + (y_train[i] * tf.log(tf.sigmoid(tf.transpose(A)*au_X_train[i]))) + ((1 - y_train[i]) * tf.log(1 - tf.sigmoid(tf.transpose(A)*au_X_train[i]))))\n",
        "\n",
        "loss = loss/len(X_t1)\n",
        "\n",
        "#X_train = np.concatenate((X_train, au_X_train), axis = 0)\n",
        "\n",
        "learning_rate = .005\n",
        "batch_size = 30\n",
        "iter_num = 1500\n",
        "\n",
        "# Define the optimizer\n",
        "opt = tf.train.GradientDescentOptimizer(learning_rate)\n",
        "\n",
        "# Define the goal\n",
        "goal = opt.minimize(loss)\n",
        "\n",
        "# Define the accuracy\n",
        "# The default threshold is 0.5, rounded off directly\n",
        "prediction = tf.round(tf.sigmoid(mod))\n",
        "# Bool into float32 type\n",
        "correct = tf.cast(tf.equal(prediction, target), dtype=tf.float32)\n",
        "# Average\n",
        "accuracy = tf.reduce_mean(correct)\n",
        "# End of the definition of the model framework\n",
        "\n",
        "# Start training model\n",
        "# Define the variable that stores the result\n",
        "loss_trace = []\n",
        "train_acc = []\n",
        "test_acc = []\n",
        "\n"
      ],
      "execution_count": 0,
      "outputs": []
    },
    {
      "cell_type": "code",
      "metadata": {
        "id": "sW_0DP4smAgK",
        "colab_type": "code",
        "colab": {
          "base_uri": "https://localhost:8080/",
          "height": 35
        },
        "outputId": "812afb81-daaa-4c0a-cbd3-df151783b6a5"
      },
      "source": [
        "import tensorflow as tf\n",
        "\n",
        "b= tf.Variable(tf.zeros([1]))\n",
        "print(b)"
      ],
      "execution_count": 16,
      "outputs": [
        {
          "output_type": "stream",
          "text": [
            "<tf.Variable 'Variable_3:0' shape=(1,) dtype=float32_ref>\n"
          ],
          "name": "stdout"
        }
      ]
    },
    {
      "cell_type": "code",
      "metadata": {
        "id": "HWs2lKuNtNHC",
        "colab_type": "code",
        "colab": {
          "base_uri": "https://localhost:8080/",
          "height": 464
        },
        "outputId": "94f0d251-90a1-4a6f-cb6c-6e2dfdea6ac1"
      },
      "source": [
        "# training model\n",
        "for epoch in range(iter_num):\n",
        "    # Generate random batch index\n",
        "    #print(len(X_train))\n",
        "    batch_index = np.random.choice(len(X_train), size=batch_size)\n",
        "    #print(batch_index)\n",
        "    batch_train_X = X_train[batch_index]\n",
        "    batch_train_y = np.matrix(y_train[batch_index]).T\n",
        "    #batch_train_y = y_train[batch_index]\n",
        "    sess.run(goal, feed_dict={data: batch_train_X, target: batch_train_y})\n",
        "    temp_loss = sess.run(loss, feed_dict={data: batch_train_X, target: batch_train_y})\n",
        "    # convert into a matrix, and the shape of the placeholder to correspond\n",
        "    temp_train_acc = sess.run(accuracy, feed_dict={data: X_train, target: np.matrix(y_train).T})\n",
        "    temp_test_acc = sess.run(accuracy, feed_dict={data: X_test, target: np.matrix(y_test).T})\n",
        "    temp_test_acc1 = sess.run(accuracy, feed_dict={data: au_X_test, target: np.matrix(y_test).T})\n",
        "\n",
        "    # recode the result\n",
        "    loss_trace.append(temp_loss)\n",
        "    train_acc.append(temp_train_acc)\n",
        "    test_acc.append(temp_test_acc)\n",
        "    # output\n",
        "    if (epoch + 1) % 300 == 0:\n",
        "        print(epoch + 1, temp_loss, temp_train_acc, temp_test_acc, temp_test_acc1)\n",
        "\n",
        "\n"
      ],
      "execution_count": 44,
      "outputs": [
        {
          "output_type": "stream",
          "text": [
            "300 [[-0.00069306 -0.00088505 -0.00068875 -0.00049431 -0.00085481 -0.00188047\n",
            "  -0.00097858 -0.0004569  -0.00066167 -0.0006677  -0.00070395 -0.00097514\n",
            "  -0.0006746  -0.00090492 -0.00041043 -0.00058534 -0.00058811 -0.00065722\n",
            "  -0.00096172 -0.0006419  -0.00077766 -0.0007112  -0.00070791 -0.0010007\n",
            "  -0.00062948 -0.00063879 -0.00074959 -0.00090821]] 0.5625304 0.569161 0.5283447\n",
            "600 [[-0.00069307 -0.00088579 -0.00068877 -0.00049441 -0.00085483 -0.00189109\n",
            "  -0.00097962 -0.0004569  -0.00066167 -0.0006677  -0.00070396 -0.00097523\n",
            "  -0.0006746  -0.00090498 -0.00041046 -0.00058541 -0.00058818 -0.00065722\n",
            "  -0.00096176 -0.00064191 -0.00077768 -0.00071121 -0.00070794 -0.001001\n",
            "  -0.00062948 -0.0006388  -0.00074964 -0.00090835]] 0.5625304 0.569161 0.5283447\n",
            "900 [[-0.00069307 -0.00088652 -0.0006888  -0.00049452 -0.00085486 -0.00190173\n",
            "  -0.00098066 -0.0004569  -0.00066167 -0.00066771 -0.00070397 -0.00097531\n",
            "  -0.0006746  -0.00090503 -0.00041049 -0.00058548 -0.00058825 -0.00065722\n",
            "  -0.0009618  -0.00064193 -0.0007777  -0.00071123 -0.00070796 -0.0010013\n",
            "  -0.00062948 -0.0006388  -0.0007497  -0.00090849]] 0.563017 0.569161 0.5272109\n",
            "1200 [[-0.00069308 -0.00088725 -0.00068883 -0.00049462 -0.00085488 -0.00191241\n",
            "  -0.00098171 -0.0004569  -0.00066168 -0.00066771 -0.00070398 -0.0009754\n",
            "  -0.0006746  -0.00090509 -0.00041052 -0.00058555 -0.00058832 -0.00065722\n",
            "  -0.00096185 -0.00064194 -0.00077772 -0.00071124 -0.00070799 -0.00100161\n",
            "  -0.00062948 -0.0006388  -0.00074975 -0.00090863]] 0.563017 0.5680272 0.5272109\n",
            "1500 [[-0.00069308 -0.00088798 -0.00068886 -0.00049473 -0.0008549  -0.0019231\n",
            "  -0.00098275 -0.0004569  -0.00066168 -0.00066771 -0.000704   -0.00097548\n",
            "  -0.0006746  -0.00090515 -0.00041055 -0.00058562 -0.00058839 -0.00065722\n",
            "  -0.00096189 -0.00064195 -0.00077775 -0.00071125 -0.00070801 -0.00100191\n",
            "  -0.00062948 -0.0006388  -0.00074981 -0.00090878]] 0.563017 0.5680272 0.5272109\n"
          ],
          "name": "stdout"
        }
      ]
    },
    {
      "cell_type": "code",
      "metadata": {
        "id": "D3N5Xz3ZtSbn",
        "colab_type": "code",
        "colab": {
          "base_uri": "https://localhost:8080/",
          "height": 922
        },
        "outputId": "9a590364-ee06-4a43-85a9-9e48058ee03b"
      },
      "source": [
        "plt.plot(train_acc, 'b-', label='train accuracy')\n",
        "plt.plot(test_acc, 'k-', label='test accuracy')\n",
        "plt.xlabel('epoch')\n",
        "plt.ylabel('accuracy')\n",
        "plt.title('Train and Test Accuracy')\n",
        "plt.legend(loc='best')\n",
        "plt.show()\n",
        "\n",
        "plt.plot(loss_trace)\n",
        "plt.title('Cross Entropy Loss')\n",
        "plt.xlabel('epoch')\n",
        "plt.ylabel('loss')\n",
        "plt.show()\n"
      ],
      "execution_count": 45,
      "outputs": [
        {
          "output_type": "display_data",
          "data": {
            "image/png": "[encoded data removed]",
            "text/plain": [
              "<Figure size 432x288 with 1 Axes>"
            ]
          },
          "metadata": {
            "tags": []
          }
        },
        {
          "output_type": "error",
          "ename": "ValueError",
          "evalue": "ignored",
          "traceback": [
            "\u001b[0;31m---------------------------------------------------------------------------\u001b[0m",
            "\u001b[0;31mValueError\u001b[0m                                Traceback (most recent call last)",
            "\u001b[0;32m<ipython-input-45-84500ee9b590>\u001b[0m in \u001b[0;36m<module>\u001b[0;34m()\u001b[0m\n\u001b[1;32m      7\u001b[0m \u001b[0mplt\u001b[0m\u001b[0;34m.\u001b[0m\u001b[0mshow\u001b[0m\u001b[0;34m(\u001b[0m\u001b[0;34m)\u001b[0m\u001b[0;34m\u001b[0m\u001b[0;34m\u001b[0m\u001b[0m\n\u001b[1;32m      8\u001b[0m \u001b[0;34m\u001b[0m\u001b[0m\n\u001b[0;32m----> 9\u001b[0;31m \u001b[0mplt\u001b[0m\u001b[0;34m.\u001b[0m\u001b[0mplot\u001b[0m\u001b[0;34m(\u001b[0m\u001b[0mloss_trace\u001b[0m\u001b[0;34m)\u001b[0m\u001b[0;34m\u001b[0m\u001b[0;34m\u001b[0m\u001b[0m\n\u001b[0m\u001b[1;32m     10\u001b[0m \u001b[0mplt\u001b[0m\u001b[0;34m.\u001b[0m\u001b[0mtitle\u001b[0m\u001b[0;34m(\u001b[0m\u001b[0;34m'Cross Entropy Loss'\u001b[0m\u001b[0;34m)\u001b[0m\u001b[0;34m\u001b[0m\u001b[0;34m\u001b[0m\u001b[0m\n\u001b[1;32m     11\u001b[0m \u001b[0mplt\u001b[0m\u001b[0;34m.\u001b[0m\u001b[0mxlabel\u001b[0m\u001b[0;34m(\u001b[0m\u001b[0;34m'epoch'\u001b[0m\u001b[0;34m)\u001b[0m\u001b[0;34m\u001b[0m\u001b[0;34m\u001b[0m\u001b[0m\n",
            "\u001b[0;32m/usr/local/lib/python3.6/dist-packages/matplotlib/pyplot.py\u001b[0m in \u001b[0;36mplot\u001b[0;34m(scalex, scaley, data, *args, **kwargs)\u001b[0m\n\u001b[1;32m   2809\u001b[0m     return gca().plot(\n\u001b[1;32m   2810\u001b[0m         *args, scalex=scalex, scaley=scaley, **({\"data\": data} if data\n\u001b[0;32m-> 2811\u001b[0;31m         is not None else {}), **kwargs)\n\u001b[0m\u001b[1;32m   2812\u001b[0m \u001b[0;34m\u001b[0m\u001b[0m\n\u001b[1;32m   2813\u001b[0m \u001b[0;34m\u001b[0m\u001b[0m\n",
            "\u001b[0;32m/usr/local/lib/python3.6/dist-packages/matplotlib/__init__.py\u001b[0m in \u001b[0;36minner\u001b[0;34m(ax, data, *args, **kwargs)\u001b[0m\n\u001b[1;32m   1808\u001b[0m                         \u001b[0;34m\"the Matplotlib list!)\"\u001b[0m \u001b[0;34m%\u001b[0m \u001b[0;34m(\u001b[0m\u001b[0mlabel_namer\u001b[0m\u001b[0;34m,\u001b[0m \u001b[0mfunc\u001b[0m\u001b[0;34m.\u001b[0m\u001b[0m__name__\u001b[0m\u001b[0;34m)\u001b[0m\u001b[0;34m,\u001b[0m\u001b[0;34m\u001b[0m\u001b[0;34m\u001b[0m\u001b[0m\n\u001b[1;32m   1809\u001b[0m                         RuntimeWarning, stacklevel=2)\n\u001b[0;32m-> 1810\u001b[0;31m             \u001b[0;32mreturn\u001b[0m \u001b[0mfunc\u001b[0m\u001b[0;34m(\u001b[0m\u001b[0max\u001b[0m\u001b[0;34m,\u001b[0m \u001b[0;34m*\u001b[0m\u001b[0margs\u001b[0m\u001b[0;34m,\u001b[0m \u001b[0;34m**\u001b[0m\u001b[0mkwargs\u001b[0m\u001b[0;34m)\u001b[0m\u001b[0;34m\u001b[0m\u001b[0;34m\u001b[0m\u001b[0m\n\u001b[0m\u001b[1;32m   1811\u001b[0m \u001b[0;34m\u001b[0m\u001b[0m\n\u001b[1;32m   1812\u001b[0m         inner.__doc__ = _add_data_doc(inner.__doc__,\n",
            "\u001b[0;32m/usr/local/lib/python3.6/dist-packages/matplotlib/axes/_axes.py\u001b[0m in \u001b[0;36mplot\u001b[0;34m(self, scalex, scaley, *args, **kwargs)\u001b[0m\n\u001b[1;32m   1609\u001b[0m         \u001b[0mkwargs\u001b[0m \u001b[0;34m=\u001b[0m \u001b[0mcbook\u001b[0m\u001b[0;34m.\u001b[0m\u001b[0mnormalize_kwargs\u001b[0m\u001b[0;34m(\u001b[0m\u001b[0mkwargs\u001b[0m\u001b[0;34m,\u001b[0m \u001b[0mmlines\u001b[0m\u001b[0;34m.\u001b[0m\u001b[0mLine2D\u001b[0m\u001b[0;34m.\u001b[0m\u001b[0m_alias_map\u001b[0m\u001b[0;34m)\u001b[0m\u001b[0;34m\u001b[0m\u001b[0;34m\u001b[0m\u001b[0m\n\u001b[1;32m   1610\u001b[0m \u001b[0;34m\u001b[0m\u001b[0m\n\u001b[0;32m-> 1611\u001b[0;31m         \u001b[0;32mfor\u001b[0m \u001b[0mline\u001b[0m \u001b[0;32min\u001b[0m \u001b[0mself\u001b[0m\u001b[0;34m.\u001b[0m\u001b[0m_get_lines\u001b[0m\u001b[0;34m(\u001b[0m\u001b[0;34m*\u001b[0m\u001b[0margs\u001b[0m\u001b[0;34m,\u001b[0m \u001b[0;34m**\u001b[0m\u001b[0mkwargs\u001b[0m\u001b[0;34m)\u001b[0m\u001b[0;34m:\u001b[0m\u001b[0;34m\u001b[0m\u001b[0;34m\u001b[0m\u001b[0m\n\u001b[0m\u001b[1;32m   1612\u001b[0m             \u001b[0mself\u001b[0m\u001b[0;34m.\u001b[0m\u001b[0madd_line\u001b[0m\u001b[0;34m(\u001b[0m\u001b[0mline\u001b[0m\u001b[0;34m)\u001b[0m\u001b[0;34m\u001b[0m\u001b[0;34m\u001b[0m\u001b[0m\n\u001b[1;32m   1613\u001b[0m             \u001b[0mlines\u001b[0m\u001b[0;34m.\u001b[0m\u001b[0mappend\u001b[0m\u001b[0;34m(\u001b[0m\u001b[0mline\u001b[0m\u001b[0;34m)\u001b[0m\u001b[0;34m\u001b[0m\u001b[0;34m\u001b[0m\u001b[0m\n",
            "\u001b[0;32m/usr/local/lib/python3.6/dist-packages/matplotlib/axes/_base.py\u001b[0m in \u001b[0;36m_grab_next_args\u001b[0;34m(self, *args, **kwargs)\u001b[0m\n\u001b[1;32m    391\u001b[0m                 \u001b[0mthis\u001b[0m \u001b[0;34m+=\u001b[0m \u001b[0margs\u001b[0m\u001b[0;34m[\u001b[0m\u001b[0;36m0\u001b[0m\u001b[0;34m]\u001b[0m\u001b[0;34m,\u001b[0m\u001b[0;34m\u001b[0m\u001b[0;34m\u001b[0m\u001b[0m\n\u001b[1;32m    392\u001b[0m                 \u001b[0margs\u001b[0m \u001b[0;34m=\u001b[0m \u001b[0margs\u001b[0m\u001b[0;34m[\u001b[0m\u001b[0;36m1\u001b[0m\u001b[0;34m:\u001b[0m\u001b[0;34m]\u001b[0m\u001b[0;34m\u001b[0m\u001b[0;34m\u001b[0m\u001b[0m\n\u001b[0;32m--> 393\u001b[0;31m             \u001b[0;32myield\u001b[0m \u001b[0;32mfrom\u001b[0m \u001b[0mself\u001b[0m\u001b[0;34m.\u001b[0m\u001b[0m_plot_args\u001b[0m\u001b[0;34m(\u001b[0m\u001b[0mthis\u001b[0m\u001b[0;34m,\u001b[0m \u001b[0mkwargs\u001b[0m\u001b[0;34m)\u001b[0m\u001b[0;34m\u001b[0m\u001b[0;34m\u001b[0m\u001b[0m\n\u001b[0m\u001b[1;32m    394\u001b[0m \u001b[0;34m\u001b[0m\u001b[0m\n\u001b[1;32m    395\u001b[0m \u001b[0;34m\u001b[0m\u001b[0m\n",
            "\u001b[0;32m/usr/local/lib/python3.6/dist-packages/matplotlib/axes/_base.py\u001b[0m in \u001b[0;36m_plot_args\u001b[0;34m(self, tup, kwargs)\u001b[0m\n\u001b[1;32m    368\u001b[0m             \u001b[0mx\u001b[0m\u001b[0;34m,\u001b[0m \u001b[0my\u001b[0m \u001b[0;34m=\u001b[0m \u001b[0mindex_of\u001b[0m\u001b[0;34m(\u001b[0m\u001b[0mtup\u001b[0m\u001b[0;34m[\u001b[0m\u001b[0;34m-\u001b[0m\u001b[0;36m1\u001b[0m\u001b[0;34m]\u001b[0m\u001b[0;34m)\u001b[0m\u001b[0;34m\u001b[0m\u001b[0;34m\u001b[0m\u001b[0m\n\u001b[1;32m    369\u001b[0m \u001b[0;34m\u001b[0m\u001b[0m\n\u001b[0;32m--> 370\u001b[0;31m         \u001b[0mx\u001b[0m\u001b[0;34m,\u001b[0m \u001b[0my\u001b[0m \u001b[0;34m=\u001b[0m \u001b[0mself\u001b[0m\u001b[0;34m.\u001b[0m\u001b[0m_xy_from_xy\u001b[0m\u001b[0;34m(\u001b[0m\u001b[0mx\u001b[0m\u001b[0;34m,\u001b[0m \u001b[0my\u001b[0m\u001b[0;34m)\u001b[0m\u001b[0;34m\u001b[0m\u001b[0;34m\u001b[0m\u001b[0m\n\u001b[0m\u001b[1;32m    371\u001b[0m \u001b[0;34m\u001b[0m\u001b[0m\n\u001b[1;32m    372\u001b[0m         \u001b[0;32mif\u001b[0m \u001b[0mself\u001b[0m\u001b[0;34m.\u001b[0m\u001b[0mcommand\u001b[0m \u001b[0;34m==\u001b[0m \u001b[0;34m'plot'\u001b[0m\u001b[0;34m:\u001b[0m\u001b[0;34m\u001b[0m\u001b[0;34m\u001b[0m\u001b[0m\n",
            "\u001b[0;32m/usr/local/lib/python3.6/dist-packages/matplotlib/axes/_base.py\u001b[0m in \u001b[0;36m_xy_from_xy\u001b[0;34m(self, x, y)\u001b[0m\n\u001b[1;32m    232\u001b[0m         \u001b[0;32mif\u001b[0m \u001b[0mx\u001b[0m\u001b[0;34m.\u001b[0m\u001b[0mndim\u001b[0m \u001b[0;34m>\u001b[0m \u001b[0;36m2\u001b[0m \u001b[0;32mor\u001b[0m \u001b[0my\u001b[0m\u001b[0;34m.\u001b[0m\u001b[0mndim\u001b[0m \u001b[0;34m>\u001b[0m \u001b[0;36m2\u001b[0m\u001b[0;34m:\u001b[0m\u001b[0;34m\u001b[0m\u001b[0;34m\u001b[0m\u001b[0m\n\u001b[1;32m    233\u001b[0m             raise ValueError(\"x and y can be no greater than 2-D, but have \"\n\u001b[0;32m--> 234\u001b[0;31m                              \"shapes {} and {}\".format(x.shape, y.shape))\n\u001b[0m\u001b[1;32m    235\u001b[0m \u001b[0;34m\u001b[0m\u001b[0m\n\u001b[1;32m    236\u001b[0m         \u001b[0;32mif\u001b[0m \u001b[0mx\u001b[0m\u001b[0;34m.\u001b[0m\u001b[0mndim\u001b[0m \u001b[0;34m==\u001b[0m \u001b[0;36m1\u001b[0m\u001b[0;34m:\u001b[0m\u001b[0;34m\u001b[0m\u001b[0;34m\u001b[0m\u001b[0m\n",
            "\u001b[0;31mValueError\u001b[0m: x and y can be no greater than 2-D, but have shapes (3000,) and (3000, 1, 28)"
          ]
        },
        {
          "output_type": "display_data",
          "data": {
            "image/png": "[encoded data removed]",
            "text/plain": [
              "<Figure size 432x288 with 1 Axes>"
            ]
          },
          "metadata": {
            "tags": []
          }
        }
      ]
    },
    {
      "cell_type": "code",
      "metadata": {
        "id": "F2tUb6Iwi_E_",
        "colab_type": "code",
        "outputId": "e29875e4-d800-4913-94f2-3d519f9f9425",
        "colab": {
          "base_uri": "https://localhost:8080/",
          "height": 35
        }
      },
      "source": [
        "len(X_t2)\n",
        "\n",
        "#len(y_t1)"
      ],
      "execution_count": 0,
      "outputs": [
        {
          "output_type": "execute_result",
          "data": {
            "text/plain": [
              "1763"
            ]
          },
          "metadata": {
            "tags": []
          },
          "execution_count": 99
        }
      ]
    },
    {
      "cell_type": "code",
      "metadata": {
        "id": "BkDQ-U-Ci6Tt",
        "colab_type": "code",
        "colab": {}
      },
      "source": [
        "A = tf.Variable(tf.random_normal(shape=[2, 1]))\n",
        "b = tf.Variable(tf.random_normal(shape=[1, 1]))\n",
        "init = tf.global_variables_initializer()\n",
        "sess = tf.Session()\n",
        "sess.run(init)\n",
        "\n",
        "data = tf.placeholder(dtype=tf.float32, shape=[None, 2])\n",
        "target = tf.placeholder(dtype=tf.float32, shape=[None, 1])\n",
        "\n",
        "mod = tf.matmul(data, A) + b\n",
        "\n",
        "for i in range(len(X_t1)):\n",
        "    loss = ((y_train1[i] * tf.log(tf.sigmoid(tf.transpose(A)*X_train[i]))) + ((1 - y_train1[i]) * tf.log(1 - tf.sigmoid(tf.transpose(A)*X_train[i])))\n",
        "            + (y_train1[i] * tf.log(tf.sigmoid(tf.transpose(A)*au_X_train[i]))) + ((1 - y_train1[i]) * tf.log(1 - tf.sigmoid(tf.transpose(A)*au_X_train[i]))))\n",
        "\n",
        "loss = loss/140\n",
        "\n",
        "X_train = np.concatenate((X_train, au_X_train), axis = 0)\n",
        "\n",
        "learning_rate = .005\n",
        "batch_size = 30\n",
        "iter_num = 1500\n",
        "\n",
        "# Define the optimizer\n",
        "opt = tf.train.GradientDescentOptimizer(learning_rate)\n",
        "\n",
        "# Define the goal\n",
        "goal = opt.minimize(loss)\n",
        "\n",
        "# Define the accuracy\n",
        "# The default threshold is 0.5, rounded off directly\n",
        "prediction = tf.round(tf.sigmoid(mod))\n",
        "# Bool into float32 type\n",
        "correct = tf.cast(tf.equal(prediction, target), dtype=tf.float32)\n",
        "# Average\n",
        "accuracy = tf.reduce_mean(correct)\n",
        "# End of the definition of the model framework\n",
        "\n",
        "# Start training model\n",
        "# Define the variable that stores the result\n",
        "loss_trace = []\n",
        "train_acc = []\n",
        "test_acc = []\n",
        "\n",
        "# training model\n",
        "for epoch in range(iter_num):\n",
        "    # Generate random batch index\n",
        "    batch_index = np.random.choice(len(X_train), size=batch_size)\n",
        "    batch_train_X = X_train[batch_index]\n",
        "    batch_train_y = np.matrix(y_train[batch_index]).T\n",
        "    sess.run(goal, feed_dict={data: batch_train_X, target: batch_train_y})\n",
        "    temp_loss = sess.run(loss, feed_dict={data: batch_train_X, target: batch_train_y})\n",
        "    # convert into a matrix, and the shape of the placeholder to correspond\n",
        "    temp_train_acc = sess.run(accuracy, feed_dict={data: X_train, target: np.matrix(y_train).T})\n",
        "    temp_test_acc = sess.run(accuracy, feed_dict={data: X_test, target: np.matrix(y_test).T})\n",
        "    temp_test_acc1 = sess.run(accuracy, feed_dict={data: au_X_test, target: np.matrix(y_test1).T})\n",
        "\n",
        "    # recode the result\n",
        "    loss_trace.append(temp_loss)\n",
        "    train_acc.append(temp_train_acc)\n",
        "    test_acc.append(temp_test_acc)\n",
        "    # output\n",
        "    if (epoch + 1) % 300 == 0:\n",
        "        print(epoch + 1, temp_loss, temp_train_acc, temp_test_acc, temp_test_acc1)\n",
        "\n",
        "\n",
        "plt.plot(train_acc, 'b-', label='train accuracy')\n",
        "plt.plot(test_acc, 'k-', label='test accuracy')\n",
        "plt.xlabel('epoch')\n",
        "plt.ylabel('accuracy')\n",
        "plt.title('Train and Test Accuracy')\n",
        "plt.legend(loc='best')\n",
        "plt.show()\n",
        "\n",
        "plt.plot(loss_trace)\n",
        "plt.title('Cross Entropy Loss')\n",
        "plt.xlabel('epoch')\n",
        "plt.ylabel('loss')\n",
        "plt.show()\n"
      ],
      "execution_count": 0,
      "outputs": []
    }
  ]
}